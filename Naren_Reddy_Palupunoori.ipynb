{
 "cells": [
  {
   "cell_type": "markdown",
   "id": "75d2b815",
   "metadata": {},
   "source": [
    "# Bike sharing case study\n",
    "## Problem Statement\n",
    "Understand the factors affecting the demand for these shared bikes in the American market. The company wants to know:\n",
    "1. Which variables are significant in predicting the demand for shared bikes.\n",
    "2. How well those variables describe the bike demands\n",
    "\n",
    "## Steps \n",
    "To understand the problem and propose a solution and sugestions to the bike sharing company post covid restrictions are removed we will be going through following steps on the given data.\n",
    "1. Reading, Understandting, cleaning and visualizing the data\n",
    "2. Preparing the data for modelling\n",
    "    - Train - Test split\n",
    "    - Rescaling\n",
    "3. Training the model\n",
    "    - RSE method\n",
    "    - Manual elimenation of features\n",
    "4. Resudaual analysis\n",
    "5. Prediction and evaluation on the test set\n",
    "6. Conclusion and suggestions"
   ]
  },
  {
   "cell_type": "markdown",
   "id": "bd030be0",
   "metadata": {},
   "source": [
    "## Step 1: Reading, Understandting, cleaning and visualizing the data"
   ]
  },
  {
   "cell_type": "markdown",
   "id": "0a043488",
   "metadata": {},
   "source": [
    "### Reading"
   ]
  },
  {
   "cell_type": "code",
   "execution_count": 1,
   "id": "2b925046",
   "metadata": {},
   "outputs": [],
   "source": [
    "import warnings\n",
    "warnings.filterwarnings(\"ignore\")\n",
    "import numpy as np\n",
    "import pandas as pd"
   ]
  },
  {
   "cell_type": "code",
   "execution_count": 2,
   "id": "0bdb4162",
   "metadata": {},
   "outputs": [
    {
     "data": {
      "text/html": [
       "<div>\n",
       "<style scoped>\n",
       "    .dataframe tbody tr th:only-of-type {\n",
       "        vertical-align: middle;\n",
       "    }\n",
       "\n",
       "    .dataframe tbody tr th {\n",
       "        vertical-align: top;\n",
       "    }\n",
       "\n",
       "    .dataframe thead th {\n",
       "        text-align: right;\n",
       "    }\n",
       "</style>\n",
       "<table border=\"1\" class=\"dataframe\">\n",
       "  <thead>\n",
       "    <tr style=\"text-align: right;\">\n",
       "      <th></th>\n",
       "      <th>instant</th>\n",
       "      <th>dteday</th>\n",
       "      <th>season</th>\n",
       "      <th>yr</th>\n",
       "      <th>mnth</th>\n",
       "      <th>holiday</th>\n",
       "      <th>weekday</th>\n",
       "      <th>workingday</th>\n",
       "      <th>weathersit</th>\n",
       "      <th>temp</th>\n",
       "      <th>atemp</th>\n",
       "      <th>hum</th>\n",
       "      <th>windspeed</th>\n",
       "      <th>casual</th>\n",
       "      <th>registered</th>\n",
       "      <th>cnt</th>\n",
       "    </tr>\n",
       "  </thead>\n",
       "  <tbody>\n",
       "    <tr>\n",
       "      <th>0</th>\n",
       "      <td>1</td>\n",
       "      <td>01-01-2018</td>\n",
       "      <td>1</td>\n",
       "      <td>0</td>\n",
       "      <td>1</td>\n",
       "      <td>0</td>\n",
       "      <td>6</td>\n",
       "      <td>0</td>\n",
       "      <td>2</td>\n",
       "      <td>14.110847</td>\n",
       "      <td>18.18125</td>\n",
       "      <td>80.5833</td>\n",
       "      <td>10.749882</td>\n",
       "      <td>331</td>\n",
       "      <td>654</td>\n",
       "      <td>985</td>\n",
       "    </tr>\n",
       "    <tr>\n",
       "      <th>1</th>\n",
       "      <td>2</td>\n",
       "      <td>02-01-2018</td>\n",
       "      <td>1</td>\n",
       "      <td>0</td>\n",
       "      <td>1</td>\n",
       "      <td>0</td>\n",
       "      <td>0</td>\n",
       "      <td>0</td>\n",
       "      <td>2</td>\n",
       "      <td>14.902598</td>\n",
       "      <td>17.68695</td>\n",
       "      <td>69.6087</td>\n",
       "      <td>16.652113</td>\n",
       "      <td>131</td>\n",
       "      <td>670</td>\n",
       "      <td>801</td>\n",
       "    </tr>\n",
       "    <tr>\n",
       "      <th>2</th>\n",
       "      <td>3</td>\n",
       "      <td>03-01-2018</td>\n",
       "      <td>1</td>\n",
       "      <td>0</td>\n",
       "      <td>1</td>\n",
       "      <td>0</td>\n",
       "      <td>1</td>\n",
       "      <td>1</td>\n",
       "      <td>1</td>\n",
       "      <td>8.050924</td>\n",
       "      <td>9.47025</td>\n",
       "      <td>43.7273</td>\n",
       "      <td>16.636703</td>\n",
       "      <td>120</td>\n",
       "      <td>1229</td>\n",
       "      <td>1349</td>\n",
       "    </tr>\n",
       "    <tr>\n",
       "      <th>3</th>\n",
       "      <td>4</td>\n",
       "      <td>04-01-2018</td>\n",
       "      <td>1</td>\n",
       "      <td>0</td>\n",
       "      <td>1</td>\n",
       "      <td>0</td>\n",
       "      <td>2</td>\n",
       "      <td>1</td>\n",
       "      <td>1</td>\n",
       "      <td>8.200000</td>\n",
       "      <td>10.60610</td>\n",
       "      <td>59.0435</td>\n",
       "      <td>10.739832</td>\n",
       "      <td>108</td>\n",
       "      <td>1454</td>\n",
       "      <td>1562</td>\n",
       "    </tr>\n",
       "    <tr>\n",
       "      <th>4</th>\n",
       "      <td>5</td>\n",
       "      <td>05-01-2018</td>\n",
       "      <td>1</td>\n",
       "      <td>0</td>\n",
       "      <td>1</td>\n",
       "      <td>0</td>\n",
       "      <td>3</td>\n",
       "      <td>1</td>\n",
       "      <td>1</td>\n",
       "      <td>9.305237</td>\n",
       "      <td>11.46350</td>\n",
       "      <td>43.6957</td>\n",
       "      <td>12.522300</td>\n",
       "      <td>82</td>\n",
       "      <td>1518</td>\n",
       "      <td>1600</td>\n",
       "    </tr>\n",
       "  </tbody>\n",
       "</table>\n",
       "</div>"
      ],
      "text/plain": [
       "   instant      dteday  season  yr  mnth  holiday  weekday  workingday  \\\n",
       "0        1  01-01-2018       1   0     1        0        6           0   \n",
       "1        2  02-01-2018       1   0     1        0        0           0   \n",
       "2        3  03-01-2018       1   0     1        0        1           1   \n",
       "3        4  04-01-2018       1   0     1        0        2           1   \n",
       "4        5  05-01-2018       1   0     1        0        3           1   \n",
       "\n",
       "   weathersit       temp     atemp      hum  windspeed  casual  registered  \\\n",
       "0           2  14.110847  18.18125  80.5833  10.749882     331         654   \n",
       "1           2  14.902598  17.68695  69.6087  16.652113     131         670   \n",
       "2           1   8.050924   9.47025  43.7273  16.636703     120        1229   \n",
       "3           1   8.200000  10.60610  59.0435  10.739832     108        1454   \n",
       "4           1   9.305237  11.46350  43.6957  12.522300      82        1518   \n",
       "\n",
       "    cnt  \n",
       "0   985  \n",
       "1   801  \n",
       "2  1349  \n",
       "3  1562  \n",
       "4  1600  "
      ]
     },
     "execution_count": 2,
     "metadata": {},
     "output_type": "execute_result"
    }
   ],
   "source": [
    "bs = pd.read_csv(\"day.csv\")\n",
    "bs.head()"
   ]
  },
  {
   "cell_type": "markdown",
   "id": "65593346",
   "metadata": {},
   "source": [
    "### Understanding"
   ]
  },
  {
   "cell_type": "markdown",
   "id": "147867eb",
   "metadata": {},
   "source": [
    "- instant: record index\n",
    "- dteday : date\n",
    "- season : season (1:spring, 2:summer, 3:fall, 4:winter)\n",
    "- yr : year (0: 2018, 1:2019)\n",
    "- mnth : month ( 1 to 12)\n",
    "- holiday : weather day is a holiday or not (extracted from http://dchr.dc.gov/page/holiday-schedule)\n",
    "- weekday : day of the week\n",
    "- workingday : if day is neither weekend nor holiday is 1, otherwise is 0.\n",
    "+ weathersit : \n",
    "    - 1: Clear, Few clouds, Partly cloudy, Partly cloudy\n",
    "    - 2: Mist + Cloudy, Mist + Broken clouds, Mist + Few clouds, Mist\n",
    "    - 3: Light Snow, Light Rain + Thunderstorm + Scattered clouds, Light Rain + Scattered clouds\n",
    "    - 4: Heavy Rain + Ice Pallets + Thunderstorm + Mist, Snow + Fog\n",
    "- temp : temperature in Celsius\n",
    "- atemp: feeling temperature in Celsius\n",
    "- hum: humidity\n",
    "- windspeed: wind speed\n",
    "- casual: count of casual users\n",
    "- registered: count of registered users\n",
    "- cnt: count of total rental bikes including both casual and registered"
   ]
  },
  {
   "cell_type": "code",
   "execution_count": 3,
   "id": "64bd42b2",
   "metadata": {},
   "outputs": [
    {
     "data": {
      "text/plain": [
       "(730, 16)"
      ]
     },
     "execution_count": 3,
     "metadata": {},
     "output_type": "execute_result"
    }
   ],
   "source": [
    "bs.shape"
   ]
  },
  {
   "cell_type": "code",
   "execution_count": 4,
   "id": "aa7e2778",
   "metadata": {},
   "outputs": [
    {
     "name": "stdout",
     "output_type": "stream",
     "text": [
      "<class 'pandas.core.frame.DataFrame'>\n",
      "RangeIndex: 730 entries, 0 to 729\n",
      "Data columns (total 16 columns):\n",
      " #   Column      Non-Null Count  Dtype  \n",
      "---  ------      --------------  -----  \n",
      " 0   instant     730 non-null    int64  \n",
      " 1   dteday      730 non-null    object \n",
      " 2   season      730 non-null    int64  \n",
      " 3   yr          730 non-null    int64  \n",
      " 4   mnth        730 non-null    int64  \n",
      " 5   holiday     730 non-null    int64  \n",
      " 6   weekday     730 non-null    int64  \n",
      " 7   workingday  730 non-null    int64  \n",
      " 8   weathersit  730 non-null    int64  \n",
      " 9   temp        730 non-null    float64\n",
      " 10  atemp       730 non-null    float64\n",
      " 11  hum         730 non-null    float64\n",
      " 12  windspeed   730 non-null    float64\n",
      " 13  casual      730 non-null    int64  \n",
      " 14  registered  730 non-null    int64  \n",
      " 15  cnt         730 non-null    int64  \n",
      "dtypes: float64(4), int64(11), object(1)\n",
      "memory usage: 91.4+ KB\n"
     ]
    }
   ],
   "source": [
    "bs.info()"
   ]
  },
  {
   "cell_type": "code",
   "execution_count": 5,
   "id": "65b0cdb3",
   "metadata": {},
   "outputs": [
    {
     "data": {
      "text/html": [
       "<div>\n",
       "<style scoped>\n",
       "    .dataframe tbody tr th:only-of-type {\n",
       "        vertical-align: middle;\n",
       "    }\n",
       "\n",
       "    .dataframe tbody tr th {\n",
       "        vertical-align: top;\n",
       "    }\n",
       "\n",
       "    .dataframe thead th {\n",
       "        text-align: right;\n",
       "    }\n",
       "</style>\n",
       "<table border=\"1\" class=\"dataframe\">\n",
       "  <thead>\n",
       "    <tr style=\"text-align: right;\">\n",
       "      <th></th>\n",
       "      <th>instant</th>\n",
       "      <th>season</th>\n",
       "      <th>yr</th>\n",
       "      <th>mnth</th>\n",
       "      <th>holiday</th>\n",
       "      <th>weekday</th>\n",
       "      <th>workingday</th>\n",
       "      <th>weathersit</th>\n",
       "      <th>temp</th>\n",
       "      <th>atemp</th>\n",
       "      <th>hum</th>\n",
       "      <th>windspeed</th>\n",
       "      <th>casual</th>\n",
       "      <th>registered</th>\n",
       "      <th>cnt</th>\n",
       "    </tr>\n",
       "  </thead>\n",
       "  <tbody>\n",
       "    <tr>\n",
       "      <th>count</th>\n",
       "      <td>730.000000</td>\n",
       "      <td>730.000000</td>\n",
       "      <td>730.000000</td>\n",
       "      <td>730.000000</td>\n",
       "      <td>730.000000</td>\n",
       "      <td>730.000000</td>\n",
       "      <td>730.000000</td>\n",
       "      <td>730.000000</td>\n",
       "      <td>730.000000</td>\n",
       "      <td>730.000000</td>\n",
       "      <td>730.000000</td>\n",
       "      <td>730.000000</td>\n",
       "      <td>730.000000</td>\n",
       "      <td>730.000000</td>\n",
       "      <td>730.000000</td>\n",
       "    </tr>\n",
       "    <tr>\n",
       "      <th>mean</th>\n",
       "      <td>365.500000</td>\n",
       "      <td>2.498630</td>\n",
       "      <td>0.500000</td>\n",
       "      <td>6.526027</td>\n",
       "      <td>0.028767</td>\n",
       "      <td>2.997260</td>\n",
       "      <td>0.683562</td>\n",
       "      <td>1.394521</td>\n",
       "      <td>20.319259</td>\n",
       "      <td>23.726322</td>\n",
       "      <td>62.765175</td>\n",
       "      <td>12.763620</td>\n",
       "      <td>849.249315</td>\n",
       "      <td>3658.757534</td>\n",
       "      <td>4508.006849</td>\n",
       "    </tr>\n",
       "    <tr>\n",
       "      <th>std</th>\n",
       "      <td>210.877136</td>\n",
       "      <td>1.110184</td>\n",
       "      <td>0.500343</td>\n",
       "      <td>3.450215</td>\n",
       "      <td>0.167266</td>\n",
       "      <td>2.006161</td>\n",
       "      <td>0.465405</td>\n",
       "      <td>0.544807</td>\n",
       "      <td>7.506729</td>\n",
       "      <td>8.150308</td>\n",
       "      <td>14.237589</td>\n",
       "      <td>5.195841</td>\n",
       "      <td>686.479875</td>\n",
       "      <td>1559.758728</td>\n",
       "      <td>1936.011647</td>\n",
       "    </tr>\n",
       "    <tr>\n",
       "      <th>min</th>\n",
       "      <td>1.000000</td>\n",
       "      <td>1.000000</td>\n",
       "      <td>0.000000</td>\n",
       "      <td>1.000000</td>\n",
       "      <td>0.000000</td>\n",
       "      <td>0.000000</td>\n",
       "      <td>0.000000</td>\n",
       "      <td>1.000000</td>\n",
       "      <td>2.424346</td>\n",
       "      <td>3.953480</td>\n",
       "      <td>0.000000</td>\n",
       "      <td>1.500244</td>\n",
       "      <td>2.000000</td>\n",
       "      <td>20.000000</td>\n",
       "      <td>22.000000</td>\n",
       "    </tr>\n",
       "    <tr>\n",
       "      <th>25%</th>\n",
       "      <td>183.250000</td>\n",
       "      <td>2.000000</td>\n",
       "      <td>0.000000</td>\n",
       "      <td>4.000000</td>\n",
       "      <td>0.000000</td>\n",
       "      <td>1.000000</td>\n",
       "      <td>0.000000</td>\n",
       "      <td>1.000000</td>\n",
       "      <td>13.811885</td>\n",
       "      <td>16.889713</td>\n",
       "      <td>52.000000</td>\n",
       "      <td>9.041650</td>\n",
       "      <td>316.250000</td>\n",
       "      <td>2502.250000</td>\n",
       "      <td>3169.750000</td>\n",
       "    </tr>\n",
       "    <tr>\n",
       "      <th>50%</th>\n",
       "      <td>365.500000</td>\n",
       "      <td>3.000000</td>\n",
       "      <td>0.500000</td>\n",
       "      <td>7.000000</td>\n",
       "      <td>0.000000</td>\n",
       "      <td>3.000000</td>\n",
       "      <td>1.000000</td>\n",
       "      <td>1.000000</td>\n",
       "      <td>20.465826</td>\n",
       "      <td>24.368225</td>\n",
       "      <td>62.625000</td>\n",
       "      <td>12.125325</td>\n",
       "      <td>717.000000</td>\n",
       "      <td>3664.500000</td>\n",
       "      <td>4548.500000</td>\n",
       "    </tr>\n",
       "    <tr>\n",
       "      <th>75%</th>\n",
       "      <td>547.750000</td>\n",
       "      <td>3.000000</td>\n",
       "      <td>1.000000</td>\n",
       "      <td>10.000000</td>\n",
       "      <td>0.000000</td>\n",
       "      <td>5.000000</td>\n",
       "      <td>1.000000</td>\n",
       "      <td>2.000000</td>\n",
       "      <td>26.880615</td>\n",
       "      <td>30.445775</td>\n",
       "      <td>72.989575</td>\n",
       "      <td>15.625589</td>\n",
       "      <td>1096.500000</td>\n",
       "      <td>4783.250000</td>\n",
       "      <td>5966.000000</td>\n",
       "    </tr>\n",
       "    <tr>\n",
       "      <th>max</th>\n",
       "      <td>730.000000</td>\n",
       "      <td>4.000000</td>\n",
       "      <td>1.000000</td>\n",
       "      <td>12.000000</td>\n",
       "      <td>1.000000</td>\n",
       "      <td>6.000000</td>\n",
       "      <td>1.000000</td>\n",
       "      <td>3.000000</td>\n",
       "      <td>35.328347</td>\n",
       "      <td>42.044800</td>\n",
       "      <td>97.250000</td>\n",
       "      <td>34.000021</td>\n",
       "      <td>3410.000000</td>\n",
       "      <td>6946.000000</td>\n",
       "      <td>8714.000000</td>\n",
       "    </tr>\n",
       "  </tbody>\n",
       "</table>\n",
       "</div>"
      ],
      "text/plain": [
       "          instant      season          yr        mnth     holiday     weekday  \\\n",
       "count  730.000000  730.000000  730.000000  730.000000  730.000000  730.000000   \n",
       "mean   365.500000    2.498630    0.500000    6.526027    0.028767    2.997260   \n",
       "std    210.877136    1.110184    0.500343    3.450215    0.167266    2.006161   \n",
       "min      1.000000    1.000000    0.000000    1.000000    0.000000    0.000000   \n",
       "25%    183.250000    2.000000    0.000000    4.000000    0.000000    1.000000   \n",
       "50%    365.500000    3.000000    0.500000    7.000000    0.000000    3.000000   \n",
       "75%    547.750000    3.000000    1.000000   10.000000    0.000000    5.000000   \n",
       "max    730.000000    4.000000    1.000000   12.000000    1.000000    6.000000   \n",
       "\n",
       "       workingday  weathersit        temp       atemp         hum   windspeed  \\\n",
       "count  730.000000  730.000000  730.000000  730.000000  730.000000  730.000000   \n",
       "mean     0.683562    1.394521   20.319259   23.726322   62.765175   12.763620   \n",
       "std      0.465405    0.544807    7.506729    8.150308   14.237589    5.195841   \n",
       "min      0.000000    1.000000    2.424346    3.953480    0.000000    1.500244   \n",
       "25%      0.000000    1.000000   13.811885   16.889713   52.000000    9.041650   \n",
       "50%      1.000000    1.000000   20.465826   24.368225   62.625000   12.125325   \n",
       "75%      1.000000    2.000000   26.880615   30.445775   72.989575   15.625589   \n",
       "max      1.000000    3.000000   35.328347   42.044800   97.250000   34.000021   \n",
       "\n",
       "            casual   registered          cnt  \n",
       "count   730.000000   730.000000   730.000000  \n",
       "mean    849.249315  3658.757534  4508.006849  \n",
       "std     686.479875  1559.758728  1936.011647  \n",
       "min       2.000000    20.000000    22.000000  \n",
       "25%     316.250000  2502.250000  3169.750000  \n",
       "50%     717.000000  3664.500000  4548.500000  \n",
       "75%    1096.500000  4783.250000  5966.000000  \n",
       "max    3410.000000  6946.000000  8714.000000  "
      ]
     },
     "execution_count": 5,
     "metadata": {},
     "output_type": "execute_result"
    }
   ],
   "source": [
    "bs.describe()"
   ]
  },
  {
   "cell_type": "markdown",
   "id": "a0e7bac6",
   "metadata": {},
   "source": [
    "No null values need to clean up some of the coloumsn\n",
    "- Drop instant coloumn we will not be needing index\n",
    "- Convert dteday coloumn to time format\n",
    "- All the min and max value look consistent with the coloum descriptions."
   ]
  },
  {
   "cell_type": "markdown",
   "id": "ebd6f378",
   "metadata": {},
   "source": [
    "### Cleaning"
   ]
  },
  {
   "cell_type": "code",
   "execution_count": 6,
   "id": "5863c9ea",
   "metadata": {},
   "outputs": [],
   "source": [
    "bs = bs.drop('instant', axis=1)"
   ]
  },
  {
   "cell_type": "code",
   "execution_count": 7,
   "id": "9c38eb9d",
   "metadata": {},
   "outputs": [
    {
     "name": "stdout",
     "output_type": "stream",
     "text": [
      "<class 'pandas.core.frame.DataFrame'>\n",
      "RangeIndex: 730 entries, 0 to 729\n",
      "Data columns (total 15 columns):\n",
      " #   Column      Non-Null Count  Dtype         \n",
      "---  ------      --------------  -----         \n",
      " 0   dteday      730 non-null    datetime64[ns]\n",
      " 1   season      730 non-null    int64         \n",
      " 2   yr          730 non-null    int64         \n",
      " 3   mnth        730 non-null    int64         \n",
      " 4   holiday     730 non-null    int64         \n",
      " 5   weekday     730 non-null    int64         \n",
      " 6   workingday  730 non-null    int64         \n",
      " 7   weathersit  730 non-null    int64         \n",
      " 8   temp        730 non-null    float64       \n",
      " 9   atemp       730 non-null    float64       \n",
      " 10  hum         730 non-null    float64       \n",
      " 11  windspeed   730 non-null    float64       \n",
      " 12  casual      730 non-null    int64         \n",
      " 13  registered  730 non-null    int64         \n",
      " 14  cnt         730 non-null    int64         \n",
      "dtypes: datetime64[ns](1), float64(4), int64(10)\n",
      "memory usage: 85.7 KB\n"
     ]
    }
   ],
   "source": [
    "bs['dteday']= pd.to_datetime(bs['dteday'])\n",
    "bs.info()"
   ]
  },
  {
   "cell_type": "code",
   "execution_count": 8,
   "id": "73d790e0",
   "metadata": {},
   "outputs": [
    {
     "data": {
      "text/plain": [
       "False"
      ]
     },
     "execution_count": 8,
     "metadata": {},
     "output_type": "execute_result"
    }
   ],
   "source": [
    "bs['dteday'].duplicated().any()"
   ]
  },
  {
   "cell_type": "markdown",
   "id": "db7c6ef4",
   "metadata": {},
   "source": [
    "No duplicate dates good no need to eliminate any rows here"
   ]
  },
  {
   "cell_type": "code",
   "execution_count": 9,
   "id": "b399a2c8",
   "metadata": {},
   "outputs": [
    {
     "name": "stdout",
     "output_type": "stream",
     "text": [
      "---- dteday ---\n",
      "2018-01-01    1\n",
      "2019-04-25    1\n",
      "2019-04-27    1\n",
      "2019-04-28    1\n",
      "2019-04-29    1\n",
      "             ..\n",
      "2018-03-09    1\n",
      "2018-04-09    1\n",
      "2018-05-09    1\n",
      "2018-06-09    1\n",
      "2019-12-31    1\n",
      "Name: dteday, Length: 730, dtype: int64\n",
      "---- season ---\n",
      "3    188\n",
      "2    184\n",
      "1    180\n",
      "4    178\n",
      "Name: season, dtype: int64\n",
      "---- yr ---\n",
      "0    365\n",
      "1    365\n",
      "Name: yr, dtype: int64\n",
      "---- mnth ---\n",
      "1     62\n",
      "3     62\n",
      "5     62\n",
      "7     62\n",
      "8     62\n",
      "10    62\n",
      "12    62\n",
      "4     60\n",
      "6     60\n",
      "9     60\n",
      "11    60\n",
      "2     56\n",
      "Name: mnth, dtype: int64\n",
      "---- holiday ---\n",
      "0    709\n",
      "1     21\n",
      "Name: holiday, dtype: int64\n",
      "---- weekday ---\n",
      "6    105\n",
      "0    105\n",
      "1    105\n",
      "2    104\n",
      "4    104\n",
      "5    104\n",
      "3    103\n",
      "Name: weekday, dtype: int64\n",
      "---- workingday ---\n",
      "1    499\n",
      "0    231\n",
      "Name: workingday, dtype: int64\n",
      "---- weathersit ---\n",
      "1    463\n",
      "2    246\n",
      "3     21\n",
      "Name: weathersit, dtype: int64\n",
      "---- temp ---\n",
      "26.035000    5\n",
      "10.899153    5\n",
      "27.880000    4\n",
      "28.563347    4\n",
      "23.130847    4\n",
      "            ..\n",
      "27.435847    1\n",
      "26.376653    1\n",
      "28.989419    1\n",
      "28.700000    1\n",
      "8.849153     1\n",
      "Name: temp, Length: 498, dtype: int64\n",
      "---- atemp ---\n",
      "32.73440    4\n",
      "18.78105    3\n",
      "31.85040    3\n",
      "28.59875    2\n",
      "23.32625    2\n",
      "           ..\n",
      "28.94730    1\n",
      "30.46145    1\n",
      "30.10650    1\n",
      "31.34500    1\n",
      "11.17435    1\n",
      "Name: atemp, Length: 689, dtype: int64\n",
      "---- hum ---\n",
      "61.3333    4\n",
      "63.0833    3\n",
      "55.2083    3\n",
      "60.5000    3\n",
      "56.8333    3\n",
      "          ..\n",
      "54.8333    1\n",
      "56.1765    1\n",
      "85.0000    1\n",
      "76.1250    1\n",
      "57.7500    1\n",
      "Name: hum, Length: 594, dtype: int64\n",
      "---- windspeed ---\n",
      "9.041918     3\n",
      "11.166689    3\n",
      "11.250104    3\n",
      "15.333486    3\n",
      "7.959064     3\n",
      "            ..\n",
      "12.416775    1\n",
      "13.833289    1\n",
      "14.250632    1\n",
      "23.044181    1\n",
      "10.374682    1\n",
      "Name: windspeed, Length: 649, dtype: int64\n",
      "---- casual ---\n",
      "120     4\n",
      "968     4\n",
      "639     3\n",
      "163     3\n",
      "775     3\n",
      "       ..\n",
      "2521    1\n",
      "1935    1\n",
      "783     1\n",
      "688     1\n",
      "364     1\n",
      "Name: casual, Length: 605, dtype: int64\n",
      "---- registered ---\n",
      "4841    3\n",
      "6248    3\n",
      "1707    3\n",
      "3461    2\n",
      "2713    2\n",
      "       ..\n",
      "4138    1\n",
      "3231    1\n",
      "4018    1\n",
      "3077    1\n",
      "2290    1\n",
      "Name: registered, Length: 678, dtype: int64\n",
      "---- cnt ---\n",
      "5409    2\n",
      "2424    2\n",
      "5698    2\n",
      "4459    2\n",
      "5119    2\n",
      "       ..\n",
      "5345    1\n",
      "5046    1\n",
      "4713    1\n",
      "4763    1\n",
      "2729    1\n",
      "Name: cnt, Length: 695, dtype: int64\n"
     ]
    }
   ],
   "source": [
    "for c in bs.columns:\n",
    "    print (f\"---- {c} ---\")\n",
    "    print(bs[c].value_counts())"
   ]
  },
  {
   "cell_type": "markdown",
   "id": "12223933",
   "metadata": {},
   "source": [
    "For sanity check lets check if `casual` + `registered` = `cnt`"
   ]
  },
  {
   "cell_type": "code",
   "execution_count": 10,
   "id": "3765cc5f",
   "metadata": {},
   "outputs": [
    {
     "data": {
      "text/plain": [
       "True    730\n",
       "dtype: int64"
      ]
     },
     "execution_count": 10,
     "metadata": {},
     "output_type": "execute_result"
    }
   ],
   "source": [
    "bs.apply(lambda x: (x['casual'] + x['registered'] == x['cnt']), axis=1).value_counts()"
   ]
  },
  {
   "cell_type": "markdown",
   "id": "3cd15d12",
   "metadata": {},
   "source": [
    "Looks like the rows coustomer count is valid, Total count is equal to `casual` riders plus `registered`"
   ]
  },
  {
   "cell_type": "markdown",
   "id": "c7eb24e9",
   "metadata": {},
   "source": [
    "### Visualizing"
   ]
  },
  {
   "cell_type": "markdown",
   "id": "80015a65",
   "metadata": {},
   "source": [
    "Lets start visalizing data, One of the first thing we want to visualize is data spread, how much of outliers are present. This gives us idea on how predictable or model would be.\n",
    "* Models are better when there are few outliners. \n",
    "* We also want to find if there is any liner relation between `cnt` and other variables.\n",
    "\n",
    "In the data given, `casual` and `registered` will add to `cnt`, When building model we need to figure out if we need all 3 of them.\n"
   ]
  },
  {
   "cell_type": "code",
   "execution_count": 12,
   "id": "a190cfa0",
   "metadata": {},
   "outputs": [],
   "source": [
    "import matplotlib.pyplot as plt\n",
    "%matplotlib inline\n",
    "pd.options.plotting.backend = \"plotly\"\n",
    "import seaborn as sns"
   ]
  },
  {
   "cell_type": "markdown",
   "id": "5f8183f1",
   "metadata": {},
   "source": [
    "Lets plot the total usage day by day and also lets plot registerd and casual users also"
   ]
  },
  {
   "cell_type": "code",
   "execution_count": 34,
   "id": "c543cd0d",
   "metadata": {},
   "outputs": [],
   "source": [
    "bs = bs.sort_values(['dteday','mnth'])"
   ]
  },
  {
   "cell_type": "code",
   "execution_count": 35,
   "id": "709ea45e",
   "metadata": {},
   "outputs": [
    {
     "data": {
      "application/vnd.plotly.v1+json": {
       "config": {
        "plotlyServerURL": "https://plot.ly"
       },
       "data": [
        {
         "hovertemplate": "dteday=%{x}<br>cnt=%{y}<extra></extra>",
         "legendgroup": "",
         "line": {
          "color": "#636efa",
          "dash": "solid"
         },
         "marker": {
          "symbol": "circle"
         },
         "mode": "lines",
         "name": "",
         "orientation": "v",
         "showlegend": false,
         "type": "scatter",
         "x": [
          "2018-01-01T00:00:00",
          "2018-01-02T00:00:00",
          "2018-01-03T00:00:00",
          "2018-01-04T00:00:00",
          "2018-01-05T00:00:00",
          "2018-01-06T00:00:00",
          "2018-01-07T00:00:00",
          "2018-01-08T00:00:00",
          "2018-01-09T00:00:00",
          "2018-01-10T00:00:00",
          "2018-01-11T00:00:00",
          "2018-01-12T00:00:00",
          "2018-01-13T00:00:00",
          "2018-01-14T00:00:00",
          "2018-01-15T00:00:00",
          "2018-01-16T00:00:00",
          "2018-01-17T00:00:00",
          "2018-01-18T00:00:00",
          "2018-01-19T00:00:00",
          "2018-01-20T00:00:00",
          "2018-01-21T00:00:00",
          "2018-01-22T00:00:00",
          "2018-01-23T00:00:00",
          "2018-01-24T00:00:00",
          "2018-01-25T00:00:00",
          "2018-01-26T00:00:00",
          "2018-01-27T00:00:00",
          "2018-01-28T00:00:00",
          "2018-01-29T00:00:00",
          "2018-01-30T00:00:00",
          "2018-01-31T00:00:00",
          "2018-02-01T00:00:00",
          "2018-02-02T00:00:00",
          "2018-02-03T00:00:00",
          "2018-02-04T00:00:00",
          "2018-02-05T00:00:00",
          "2018-02-06T00:00:00",
          "2018-02-07T00:00:00",
          "2018-02-08T00:00:00",
          "2018-02-09T00:00:00",
          "2018-02-10T00:00:00",
          "2018-02-11T00:00:00",
          "2018-02-12T00:00:00",
          "2018-02-13T00:00:00",
          "2018-02-14T00:00:00",
          "2018-02-15T00:00:00",
          "2018-02-16T00:00:00",
          "2018-02-17T00:00:00",
          "2018-02-18T00:00:00",
          "2018-02-19T00:00:00",
          "2018-02-20T00:00:00",
          "2018-02-21T00:00:00",
          "2018-02-22T00:00:00",
          "2018-02-23T00:00:00",
          "2018-02-24T00:00:00",
          "2018-02-25T00:00:00",
          "2018-02-26T00:00:00",
          "2018-02-27T00:00:00",
          "2018-02-28T00:00:00",
          "2018-03-01T00:00:00",
          "2018-03-02T00:00:00",
          "2018-03-03T00:00:00",
          "2018-03-04T00:00:00",
          "2018-03-05T00:00:00",
          "2018-03-06T00:00:00",
          "2018-03-07T00:00:00",
          "2018-03-08T00:00:00",
          "2018-03-09T00:00:00",
          "2018-03-10T00:00:00",
          "2018-03-11T00:00:00",
          "2018-03-12T00:00:00",
          "2018-03-13T00:00:00",
          "2018-03-14T00:00:00",
          "2018-03-15T00:00:00",
          "2018-03-16T00:00:00",
          "2018-03-17T00:00:00",
          "2018-03-18T00:00:00",
          "2018-03-19T00:00:00",
          "2018-03-20T00:00:00",
          "2018-03-21T00:00:00",
          "2018-03-22T00:00:00",
          "2018-03-23T00:00:00",
          "2018-03-24T00:00:00",
          "2018-03-25T00:00:00",
          "2018-03-26T00:00:00",
          "2018-03-27T00:00:00",
          "2018-03-28T00:00:00",
          "2018-03-29T00:00:00",
          "2018-03-30T00:00:00",
          "2018-03-31T00:00:00",
          "2018-04-01T00:00:00",
          "2018-04-02T00:00:00",
          "2018-04-03T00:00:00",
          "2018-04-04T00:00:00",
          "2018-04-05T00:00:00",
          "2018-04-06T00:00:00",
          "2018-04-07T00:00:00",
          "2018-04-08T00:00:00",
          "2018-04-09T00:00:00",
          "2018-04-10T00:00:00",
          "2018-04-11T00:00:00",
          "2018-04-12T00:00:00",
          "2018-04-13T00:00:00",
          "2018-04-14T00:00:00",
          "2018-04-15T00:00:00",
          "2018-04-16T00:00:00",
          "2018-04-17T00:00:00",
          "2018-04-18T00:00:00",
          "2018-04-19T00:00:00",
          "2018-04-20T00:00:00",
          "2018-04-21T00:00:00",
          "2018-04-22T00:00:00",
          "2018-04-23T00:00:00",
          "2018-04-24T00:00:00",
          "2018-04-25T00:00:00",
          "2018-04-26T00:00:00",
          "2018-04-27T00:00:00",
          "2018-04-28T00:00:00",
          "2018-04-29T00:00:00",
          "2018-04-30T00:00:00",
          "2018-05-01T00:00:00",
          "2018-05-02T00:00:00",
          "2018-05-03T00:00:00",
          "2018-05-04T00:00:00",
          "2018-05-05T00:00:00",
          "2018-05-06T00:00:00",
          "2018-05-07T00:00:00",
          "2018-05-08T00:00:00",
          "2018-05-09T00:00:00",
          "2018-05-10T00:00:00",
          "2018-05-11T00:00:00",
          "2018-05-12T00:00:00",
          "2018-05-13T00:00:00",
          "2018-05-14T00:00:00",
          "2018-05-15T00:00:00",
          "2018-05-16T00:00:00",
          "2018-05-17T00:00:00",
          "2018-05-18T00:00:00",
          "2018-05-19T00:00:00",
          "2018-05-20T00:00:00",
          "2018-05-21T00:00:00",
          "2018-05-22T00:00:00",
          "2018-05-23T00:00:00",
          "2018-05-24T00:00:00",
          "2018-05-25T00:00:00",
          "2018-05-26T00:00:00",
          "2018-05-27T00:00:00",
          "2018-05-28T00:00:00",
          "2018-05-29T00:00:00",
          "2018-05-30T00:00:00",
          "2018-05-31T00:00:00",
          "2018-06-01T00:00:00",
          "2018-06-02T00:00:00",
          "2018-06-03T00:00:00",
          "2018-06-04T00:00:00",
          "2018-06-05T00:00:00",
          "2018-06-06T00:00:00",
          "2018-06-07T00:00:00",
          "2018-06-08T00:00:00",
          "2018-06-09T00:00:00",
          "2018-06-10T00:00:00",
          "2018-06-11T00:00:00",
          "2018-06-12T00:00:00",
          "2018-06-13T00:00:00",
          "2018-06-14T00:00:00",
          "2018-06-15T00:00:00",
          "2018-06-16T00:00:00",
          "2018-06-17T00:00:00",
          "2018-06-18T00:00:00",
          "2018-06-19T00:00:00",
          "2018-06-20T00:00:00",
          "2018-06-21T00:00:00",
          "2018-06-22T00:00:00",
          "2018-06-23T00:00:00",
          "2018-06-24T00:00:00",
          "2018-06-25T00:00:00",
          "2018-06-26T00:00:00",
          "2018-06-27T00:00:00",
          "2018-06-28T00:00:00",
          "2018-06-29T00:00:00",
          "2018-06-30T00:00:00",
          "2018-07-01T00:00:00",
          "2018-07-02T00:00:00",
          "2018-07-03T00:00:00",
          "2018-07-04T00:00:00",
          "2018-07-05T00:00:00",
          "2018-07-06T00:00:00",
          "2018-07-07T00:00:00",
          "2018-07-08T00:00:00",
          "2018-07-09T00:00:00",
          "2018-07-10T00:00:00",
          "2018-07-11T00:00:00",
          "2018-07-12T00:00:00",
          "2018-07-13T00:00:00",
          "2018-07-14T00:00:00",
          "2018-07-15T00:00:00",
          "2018-07-16T00:00:00",
          "2018-07-17T00:00:00",
          "2018-07-18T00:00:00",
          "2018-07-19T00:00:00",
          "2018-07-20T00:00:00",
          "2018-07-21T00:00:00",
          "2018-07-22T00:00:00",
          "2018-07-23T00:00:00",
          "2018-07-24T00:00:00",
          "2018-07-25T00:00:00",
          "2018-07-26T00:00:00",
          "2018-07-27T00:00:00",
          "2018-07-28T00:00:00",
          "2018-07-29T00:00:00",
          "2018-07-30T00:00:00",
          "2018-07-31T00:00:00",
          "2018-08-01T00:00:00",
          "2018-08-02T00:00:00",
          "2018-08-03T00:00:00",
          "2018-08-04T00:00:00",
          "2018-08-05T00:00:00",
          "2018-08-06T00:00:00",
          "2018-08-07T00:00:00",
          "2018-08-08T00:00:00",
          "2018-08-09T00:00:00",
          "2018-08-10T00:00:00",
          "2018-08-11T00:00:00",
          "2018-08-12T00:00:00",
          "2018-08-13T00:00:00",
          "2018-08-14T00:00:00",
          "2018-08-15T00:00:00",
          "2018-08-16T00:00:00",
          "2018-08-17T00:00:00",
          "2018-08-18T00:00:00",
          "2018-08-19T00:00:00",
          "2018-08-20T00:00:00",
          "2018-08-21T00:00:00",
          "2018-08-22T00:00:00",
          "2018-08-23T00:00:00",
          "2018-08-24T00:00:00",
          "2018-08-25T00:00:00",
          "2018-08-26T00:00:00",
          "2018-08-27T00:00:00",
          "2018-08-28T00:00:00",
          "2018-08-29T00:00:00",
          "2018-08-30T00:00:00",
          "2018-08-31T00:00:00",
          "2018-09-01T00:00:00",
          "2018-09-02T00:00:00",
          "2018-09-03T00:00:00",
          "2018-09-04T00:00:00",
          "2018-09-05T00:00:00",
          "2018-09-06T00:00:00",
          "2018-09-07T00:00:00",
          "2018-09-08T00:00:00",
          "2018-09-09T00:00:00",
          "2018-09-10T00:00:00",
          "2018-09-11T00:00:00",
          "2018-09-12T00:00:00",
          "2018-09-13T00:00:00",
          "2018-09-14T00:00:00",
          "2018-09-15T00:00:00",
          "2018-09-16T00:00:00",
          "2018-09-17T00:00:00",
          "2018-09-18T00:00:00",
          "2018-09-19T00:00:00",
          "2018-09-20T00:00:00",
          "2018-09-21T00:00:00",
          "2018-09-22T00:00:00",
          "2018-09-23T00:00:00",
          "2018-09-24T00:00:00",
          "2018-09-25T00:00:00",
          "2018-09-26T00:00:00",
          "2018-09-27T00:00:00",
          "2018-09-28T00:00:00",
          "2018-09-29T00:00:00",
          "2018-09-30T00:00:00",
          "2018-10-01T00:00:00",
          "2018-10-02T00:00:00",
          "2018-10-03T00:00:00",
          "2018-10-04T00:00:00",
          "2018-10-05T00:00:00",
          "2018-10-06T00:00:00",
          "2018-10-07T00:00:00",
          "2018-10-08T00:00:00",
          "2018-10-09T00:00:00",
          "2018-10-10T00:00:00",
          "2018-10-11T00:00:00",
          "2018-10-12T00:00:00",
          "2018-10-13T00:00:00",
          "2018-10-14T00:00:00",
          "2018-10-15T00:00:00",
          "2018-10-16T00:00:00",
          "2018-10-17T00:00:00",
          "2018-10-18T00:00:00",
          "2018-10-19T00:00:00",
          "2018-10-20T00:00:00",
          "2018-10-21T00:00:00",
          "2018-10-22T00:00:00",
          "2018-10-23T00:00:00",
          "2018-10-24T00:00:00",
          "2018-10-25T00:00:00",
          "2018-10-26T00:00:00",
          "2018-10-27T00:00:00",
          "2018-10-28T00:00:00",
          "2018-10-29T00:00:00",
          "2018-10-30T00:00:00",
          "2018-10-31T00:00:00",
          "2018-11-01T00:00:00",
          "2018-11-02T00:00:00",
          "2018-11-03T00:00:00",
          "2018-11-04T00:00:00",
          "2018-11-05T00:00:00",
          "2018-11-06T00:00:00",
          "2018-11-07T00:00:00",
          "2018-11-08T00:00:00",
          "2018-11-09T00:00:00",
          "2018-11-10T00:00:00",
          "2018-11-11T00:00:00",
          "2018-11-12T00:00:00",
          "2018-11-13T00:00:00",
          "2018-11-14T00:00:00",
          "2018-11-15T00:00:00",
          "2018-11-16T00:00:00",
          "2018-11-17T00:00:00",
          "2018-11-18T00:00:00",
          "2018-11-19T00:00:00",
          "2018-11-20T00:00:00",
          "2018-11-21T00:00:00",
          "2018-11-22T00:00:00",
          "2018-11-23T00:00:00",
          "2018-11-24T00:00:00",
          "2018-11-25T00:00:00",
          "2018-11-26T00:00:00",
          "2018-11-27T00:00:00",
          "2018-11-28T00:00:00",
          "2018-11-29T00:00:00",
          "2018-11-30T00:00:00",
          "2018-12-01T00:00:00",
          "2018-12-02T00:00:00",
          "2018-12-03T00:00:00",
          "2018-12-04T00:00:00",
          "2018-12-05T00:00:00",
          "2018-12-06T00:00:00",
          "2018-12-07T00:00:00",
          "2018-12-08T00:00:00",
          "2018-12-09T00:00:00",
          "2018-12-10T00:00:00",
          "2018-12-11T00:00:00",
          "2018-12-12T00:00:00",
          "2018-12-13T00:00:00",
          "2018-12-14T00:00:00",
          "2018-12-15T00:00:00",
          "2018-12-16T00:00:00",
          "2018-12-17T00:00:00",
          "2018-12-18T00:00:00",
          "2018-12-19T00:00:00",
          "2018-12-20T00:00:00",
          "2018-12-21T00:00:00",
          "2018-12-22T00:00:00",
          "2018-12-23T00:00:00",
          "2018-12-24T00:00:00",
          "2018-12-25T00:00:00",
          "2018-12-26T00:00:00",
          "2018-12-27T00:00:00",
          "2018-12-28T00:00:00",
          "2018-12-29T00:00:00",
          "2018-12-30T00:00:00",
          "2018-12-31T00:00:00",
          "2019-01-01T00:00:00",
          "2019-01-02T00:00:00",
          "2019-01-03T00:00:00",
          "2019-01-04T00:00:00",
          "2019-01-05T00:00:00",
          "2019-01-06T00:00:00",
          "2019-01-07T00:00:00",
          "2019-01-08T00:00:00",
          "2019-01-09T00:00:00",
          "2019-01-10T00:00:00",
          "2019-01-11T00:00:00",
          "2019-01-12T00:00:00",
          "2019-01-13T00:00:00",
          "2019-01-14T00:00:00",
          "2019-01-15T00:00:00",
          "2019-01-16T00:00:00",
          "2019-01-17T00:00:00",
          "2019-01-18T00:00:00",
          "2019-01-19T00:00:00",
          "2019-01-20T00:00:00",
          "2019-01-21T00:00:00",
          "2019-01-22T00:00:00",
          "2019-01-23T00:00:00",
          "2019-01-24T00:00:00",
          "2019-01-25T00:00:00",
          "2019-01-26T00:00:00",
          "2019-01-27T00:00:00",
          "2019-01-28T00:00:00",
          "2019-01-29T00:00:00",
          "2019-01-30T00:00:00",
          "2019-01-31T00:00:00",
          "2019-02-01T00:00:00",
          "2019-02-02T00:00:00",
          "2019-02-03T00:00:00",
          "2019-02-04T00:00:00",
          "2019-02-05T00:00:00",
          "2019-02-06T00:00:00",
          "2019-02-07T00:00:00",
          "2019-02-08T00:00:00",
          "2019-02-09T00:00:00",
          "2019-02-10T00:00:00",
          "2019-02-11T00:00:00",
          "2019-02-12T00:00:00",
          "2019-02-13T00:00:00",
          "2019-02-14T00:00:00",
          "2019-02-15T00:00:00",
          "2019-02-16T00:00:00",
          "2019-02-17T00:00:00",
          "2019-02-18T00:00:00",
          "2019-02-19T00:00:00",
          "2019-02-20T00:00:00",
          "2019-02-21T00:00:00",
          "2019-02-22T00:00:00",
          "2019-02-23T00:00:00",
          "2019-02-24T00:00:00",
          "2019-02-25T00:00:00",
          "2019-02-26T00:00:00",
          "2019-02-27T00:00:00",
          "2019-02-28T00:00:00",
          "2019-03-01T00:00:00",
          "2019-03-02T00:00:00",
          "2019-03-03T00:00:00",
          "2019-03-04T00:00:00",
          "2019-03-05T00:00:00",
          "2019-03-06T00:00:00",
          "2019-03-07T00:00:00",
          "2019-03-08T00:00:00",
          "2019-03-09T00:00:00",
          "2019-03-10T00:00:00",
          "2019-03-11T00:00:00",
          "2019-03-12T00:00:00",
          "2019-03-13T00:00:00",
          "2019-03-14T00:00:00",
          "2019-03-15T00:00:00",
          "2019-03-16T00:00:00",
          "2019-03-17T00:00:00",
          "2019-03-18T00:00:00",
          "2019-03-19T00:00:00",
          "2019-03-20T00:00:00",
          "2019-03-21T00:00:00",
          "2019-03-22T00:00:00",
          "2019-03-23T00:00:00",
          "2019-03-24T00:00:00",
          "2019-03-25T00:00:00",
          "2019-03-26T00:00:00",
          "2019-03-27T00:00:00",
          "2019-03-28T00:00:00",
          "2019-03-29T00:00:00",
          "2019-03-30T00:00:00",
          "2019-03-31T00:00:00",
          "2019-04-01T00:00:00",
          "2019-04-02T00:00:00",
          "2019-04-03T00:00:00",
          "2019-04-04T00:00:00",
          "2019-04-05T00:00:00",
          "2019-04-06T00:00:00",
          "2019-04-07T00:00:00",
          "2019-04-08T00:00:00",
          "2019-04-09T00:00:00",
          "2019-04-10T00:00:00",
          "2019-04-11T00:00:00",
          "2019-04-12T00:00:00",
          "2019-04-13T00:00:00",
          "2019-04-14T00:00:00",
          "2019-04-15T00:00:00",
          "2019-04-16T00:00:00",
          "2019-04-17T00:00:00",
          "2019-04-18T00:00:00",
          "2019-04-19T00:00:00",
          "2019-04-20T00:00:00",
          "2019-04-21T00:00:00",
          "2019-04-22T00:00:00",
          "2019-04-23T00:00:00",
          "2019-04-24T00:00:00",
          "2019-04-25T00:00:00",
          "2019-04-26T00:00:00",
          "2019-04-27T00:00:00",
          "2019-04-28T00:00:00",
          "2019-04-29T00:00:00",
          "2019-04-30T00:00:00",
          "2019-05-01T00:00:00",
          "2019-05-02T00:00:00",
          "2019-05-03T00:00:00",
          "2019-05-04T00:00:00",
          "2019-05-05T00:00:00",
          "2019-05-06T00:00:00",
          "2019-05-07T00:00:00",
          "2019-05-08T00:00:00",
          "2019-05-09T00:00:00",
          "2019-05-10T00:00:00",
          "2019-05-11T00:00:00",
          "2019-05-12T00:00:00",
          "2019-05-13T00:00:00",
          "2019-05-14T00:00:00",
          "2019-05-15T00:00:00",
          "2019-05-16T00:00:00",
          "2019-05-17T00:00:00",
          "2019-05-18T00:00:00",
          "2019-05-19T00:00:00",
          "2019-05-20T00:00:00",
          "2019-05-21T00:00:00",
          "2019-05-22T00:00:00",
          "2019-05-23T00:00:00",
          "2019-05-24T00:00:00",
          "2019-05-25T00:00:00",
          "2019-05-26T00:00:00",
          "2019-05-27T00:00:00",
          "2019-05-28T00:00:00",
          "2019-05-29T00:00:00",
          "2019-05-30T00:00:00",
          "2019-05-31T00:00:00",
          "2019-06-01T00:00:00",
          "2019-06-02T00:00:00",
          "2019-06-03T00:00:00",
          "2019-06-04T00:00:00",
          "2019-06-05T00:00:00",
          "2019-06-06T00:00:00",
          "2019-06-07T00:00:00",
          "2019-06-08T00:00:00",
          "2019-06-09T00:00:00",
          "2019-06-10T00:00:00",
          "2019-06-11T00:00:00",
          "2019-06-12T00:00:00",
          "2019-06-13T00:00:00",
          "2019-06-14T00:00:00",
          "2019-06-15T00:00:00",
          "2019-06-16T00:00:00",
          "2019-06-17T00:00:00",
          "2019-06-18T00:00:00",
          "2019-06-19T00:00:00",
          "2019-06-20T00:00:00",
          "2019-06-21T00:00:00",
          "2019-06-22T00:00:00",
          "2019-06-23T00:00:00",
          "2019-06-24T00:00:00",
          "2019-06-25T00:00:00",
          "2019-06-26T00:00:00",
          "2019-06-27T00:00:00",
          "2019-06-28T00:00:00",
          "2019-06-29T00:00:00",
          "2019-06-30T00:00:00",
          "2019-07-01T00:00:00",
          "2019-07-02T00:00:00",
          "2019-07-03T00:00:00",
          "2019-07-04T00:00:00",
          "2019-07-05T00:00:00",
          "2019-07-06T00:00:00",
          "2019-07-07T00:00:00",
          "2019-07-08T00:00:00",
          "2019-07-09T00:00:00",
          "2019-07-10T00:00:00",
          "2019-07-11T00:00:00",
          "2019-07-12T00:00:00",
          "2019-07-13T00:00:00",
          "2019-07-14T00:00:00",
          "2019-07-15T00:00:00",
          "2019-07-16T00:00:00",
          "2019-07-17T00:00:00",
          "2019-07-18T00:00:00",
          "2019-07-19T00:00:00",
          "2019-07-20T00:00:00",
          "2019-07-21T00:00:00",
          "2019-07-22T00:00:00",
          "2019-07-23T00:00:00",
          "2019-07-24T00:00:00",
          "2019-07-25T00:00:00",
          "2019-07-26T00:00:00",
          "2019-07-27T00:00:00",
          "2019-07-28T00:00:00",
          "2019-07-29T00:00:00",
          "2019-07-30T00:00:00",
          "2019-07-31T00:00:00",
          "2019-08-01T00:00:00",
          "2019-08-02T00:00:00",
          "2019-08-03T00:00:00",
          "2019-08-04T00:00:00",
          "2019-08-05T00:00:00",
          "2019-08-06T00:00:00",
          "2019-08-07T00:00:00",
          "2019-08-08T00:00:00",
          "2019-08-09T00:00:00",
          "2019-08-10T00:00:00",
          "2019-08-11T00:00:00",
          "2019-08-12T00:00:00",
          "2019-08-13T00:00:00",
          "2019-08-14T00:00:00",
          "2019-08-15T00:00:00",
          "2019-08-16T00:00:00",
          "2019-08-17T00:00:00",
          "2019-08-18T00:00:00",
          "2019-08-19T00:00:00",
          "2019-08-20T00:00:00",
          "2019-08-21T00:00:00",
          "2019-08-22T00:00:00",
          "2019-08-23T00:00:00",
          "2019-08-24T00:00:00",
          "2019-08-25T00:00:00",
          "2019-08-26T00:00:00",
          "2019-08-27T00:00:00",
          "2019-08-28T00:00:00",
          "2019-08-29T00:00:00",
          "2019-08-30T00:00:00",
          "2019-08-31T00:00:00",
          "2019-09-01T00:00:00",
          "2019-09-02T00:00:00",
          "2019-09-03T00:00:00",
          "2019-09-04T00:00:00",
          "2019-09-05T00:00:00",
          "2019-09-06T00:00:00",
          "2019-09-07T00:00:00",
          "2019-09-08T00:00:00",
          "2019-09-09T00:00:00",
          "2019-09-10T00:00:00",
          "2019-09-11T00:00:00",
          "2019-09-12T00:00:00",
          "2019-09-13T00:00:00",
          "2019-09-14T00:00:00",
          "2019-09-15T00:00:00",
          "2019-09-16T00:00:00",
          "2019-09-17T00:00:00",
          "2019-09-18T00:00:00",
          "2019-09-19T00:00:00",
          "2019-09-20T00:00:00",
          "2019-09-21T00:00:00",
          "2019-09-22T00:00:00",
          "2019-09-23T00:00:00",
          "2019-09-24T00:00:00",
          "2019-09-25T00:00:00",
          "2019-09-26T00:00:00",
          "2019-09-27T00:00:00",
          "2019-09-28T00:00:00",
          "2019-09-29T00:00:00",
          "2019-09-30T00:00:00",
          "2019-10-01T00:00:00",
          "2019-10-02T00:00:00",
          "2019-10-03T00:00:00",
          "2019-10-04T00:00:00",
          "2019-10-05T00:00:00",
          "2019-10-06T00:00:00",
          "2019-10-07T00:00:00",
          "2019-10-08T00:00:00",
          "2019-10-09T00:00:00",
          "2019-10-10T00:00:00",
          "2019-10-11T00:00:00",
          "2019-10-12T00:00:00",
          "2019-10-13T00:00:00",
          "2019-10-14T00:00:00",
          "2019-10-15T00:00:00",
          "2019-10-16T00:00:00",
          "2019-10-17T00:00:00",
          "2019-10-18T00:00:00",
          "2019-10-19T00:00:00",
          "2019-10-20T00:00:00",
          "2019-10-21T00:00:00",
          "2019-10-22T00:00:00",
          "2019-10-23T00:00:00",
          "2019-10-24T00:00:00",
          "2019-10-25T00:00:00",
          "2019-10-26T00:00:00",
          "2019-10-27T00:00:00",
          "2019-10-28T00:00:00",
          "2019-10-29T00:00:00",
          "2019-10-30T00:00:00",
          "2019-10-31T00:00:00",
          "2019-11-01T00:00:00",
          "2019-11-02T00:00:00",
          "2019-11-03T00:00:00",
          "2019-11-04T00:00:00",
          "2019-11-05T00:00:00",
          "2019-11-06T00:00:00",
          "2019-11-07T00:00:00",
          "2019-11-08T00:00:00",
          "2019-11-09T00:00:00",
          "2019-11-10T00:00:00",
          "2019-11-11T00:00:00",
          "2019-11-12T00:00:00",
          "2019-11-13T00:00:00",
          "2019-11-14T00:00:00",
          "2019-11-15T00:00:00",
          "2019-11-16T00:00:00",
          "2019-11-17T00:00:00",
          "2019-11-18T00:00:00",
          "2019-11-19T00:00:00",
          "2019-11-20T00:00:00",
          "2019-11-21T00:00:00",
          "2019-11-22T00:00:00",
          "2019-11-23T00:00:00",
          "2019-11-24T00:00:00",
          "2019-11-25T00:00:00",
          "2019-11-26T00:00:00",
          "2019-11-27T00:00:00",
          "2019-11-28T00:00:00",
          "2019-11-29T00:00:00",
          "2019-11-30T00:00:00",
          "2019-12-01T00:00:00",
          "2019-12-02T00:00:00",
          "2019-12-03T00:00:00",
          "2019-12-04T00:00:00",
          "2019-12-05T00:00:00",
          "2019-12-06T00:00:00",
          "2019-12-07T00:00:00",
          "2019-12-08T00:00:00",
          "2019-12-09T00:00:00",
          "2019-12-10T00:00:00",
          "2019-12-11T00:00:00",
          "2019-12-12T00:00:00",
          "2019-12-13T00:00:00",
          "2019-12-14T00:00:00",
          "2019-12-15T00:00:00",
          "2019-12-16T00:00:00",
          "2019-12-17T00:00:00",
          "2019-12-18T00:00:00",
          "2019-12-19T00:00:00",
          "2019-12-20T00:00:00",
          "2019-12-21T00:00:00",
          "2019-12-22T00:00:00",
          "2019-12-23T00:00:00",
          "2019-12-24T00:00:00",
          "2019-12-25T00:00:00",
          "2019-12-26T00:00:00",
          "2019-12-27T00:00:00",
          "2019-12-28T00:00:00",
          "2019-12-29T00:00:00",
          "2019-12-30T00:00:00",
          "2019-12-31T00:00:00"
         ],
         "xaxis": "x",
         "y": [
          985,
          1360,
          1851,
          2227,
          3351,
          3974,
          5362,
          4266,
          5115,
          2429,
          4068,
          3727,
          1406,
          1421,
          1248,
          1204,
          1000,
          683,
          1650,
          1927,
          1543,
          981,
          986,
          1416,
          1985,
          506,
          431,
          1167,
          1098,
          1096,
          1501,
          801,
          1526,
          2134,
          2252,
          4401,
          4968,
          5119,
          4845,
          4727,
          2918,
          4186,
          3940,
          1589,
          1913,
          1815,
          2115,
          2475,
          2927,
          1635,
          1812,
          1107,
          1450,
          1917,
          1807,
          1461,
          1969,
          2402,
          1446,
          1349,
          1550,
          1685,
          3249,
          4451,
          5312,
          4649,
          3574,
          4484,
          3570,
          3974,
          3614,
          2417,
          2046,
          2056,
          2192,
          2744,
          3239,
          3117,
          2471,
          2077,
          2703,
          2121,
          1865,
          2210,
          2496,
          1693,
          2028,
          2425,
          1536,
          1685,
          1562,
          1708,
          1944,
          3115,
          2633,
          5342,
          6043,
          4576,
          4940,
          4456,
          4046,
          3485,
          2162,
          3267,
          3126,
          795,
          3744,
          3429,
          3204,
          3944,
          4189,
          1683,
          4036,
          4191,
          4073,
          4400,
          3872,
          4058,
          4595,
          5312,
          1600,
          1005,
          2077,
          1795,
          4433,
          4906,
          4665,
          4866,
          3351,
          4826,
          3926,
          3811,
          4105,
          3409,
          4553,
          3958,
          4123,
          3855,
          4575,
          4917,
          5805,
          4660,
          4274,
          4492,
          4978,
          4677,
          4679,
          4758,
          4788,
          4098,
          3982,
          1606,
          1623,
          605,
          2808,
          4608,
          4548,
          4629,
          4294,
          2710,
          4765,
          3649,
          2594,
          5020,
          4891,
          5180,
          3767,
          4844,
          5119,
          4744,
          4010,
          4835,
          4507,
          4790,
          4991,
          5202,
          5305,
          4708,
          4648,
          5225,
          5515,
          1510,
          1712,
          1872,
          3141,
          4714,
          4833,
          4592,
          3785,
          1996,
          4985,
          4035,
          705,
          4342,
          5084,
          5538,
          5923,
          5302,
          4458,
          4541,
          4332,
          3784,
          3387,
          3285,
          3606,
          3840,
          4590,
          4656,
          4390,
          3846,
          4475,
          4302,
          959,
          1530,
          2133,
          1471,
          4333,
          4401,
          4040,
          4326,
          1842,
          5409,
          4205,
          3322,
          4150,
          3820,
          4338,
          4725,
          4694,
          3805,
          4153,
          5191,
          3873,
          4758,
          5895,
          5130,
          3542,
          4661,
          1115,
          4334,
          4634,
          5204,
          5058,
          822,
          1605,
          1891,
          2455,
          4362,
          3915,
          5336,
          4602,
          3544,
          5511,
          4109,
          3620,
          4763,
          4785,
          3659,
          4760,
          4511,
          4274,
          4539,
          3641,
          4352,
          4795,
          2395,
          5423,
          5010,
          4630,
          4120,
          3907,
          4839,
          5202,
          1321,
          1538,
          623,
          2895,
          4803,
          4586,
          4881,
          4780,
          5345,
          5117,
          2933,
          3190,
          2913,
          3644,
          5217,
          5041,
          4570,
          4748,
          2424,
          4195,
          4304,
          4308,
          4381,
          4187,
          4687,
          3894,
          2659,
          3747,
          627,
          3331,
          3669,
          1263,
          1746,
          1977,
          3348,
          4182,
          4966,
          4086,
          4792,
          5046,
          4563,
          3368,
          2743,
          3717,
          4486,
          4195,
          1817,
          3053,
          3392,
          3663,
          3520,
          2765,
          1607,
          2566,
          1495,
          2792,
          3068,
          3071,
          3867,
          2914,
          3613,
          1162,
          1472,
          2132,
          2034,
          4864,
          4460,
          4258,
          4905,
          4713,
          2416,
          4067,
          3310,
          3523,
          3740,
          3709,
          3577,
          2739,
          2431,
          3403,
          3750,
          2660,
          3068,
          2209,
          1011,
          754,
          1317,
          1162,
          2302,
          2423,
          2999,
          2485,
          2294,
          4579,
          4990,
          6041,
          5740,
          4127,
          5531,
          7580,
          6140,
          6778,
          5986,
          5191,
          3214,
          2493,
          2311,
          2298,
          2935,
          3376,
          3292,
          3163,
          1301,
          1977,
          2432,
          4339,
          4270,
          4075,
          3456,
          4023,
          3243,
          3624,
          4509,
          1951,
          3761,
          3194,
          5936,
          6169,
          8120,
          6227,
          7261,
          5810,
          4639,
          5847,
          4649,
          3422,
          3922,
          4169,
          3005,
          4154,
          4318,
          2689,
          3129,
          3777,
          4773,
          5062,
          3487,
          2732,
          3389,
          4322,
          4363,
          2236,
          4151,
          4066,
          6772,
          6421,
          7641,
          6660,
          7175,
          6034,
          7572,
          5138,
          6234,
          5847,
          6312,
          6192,
          4378,
          7836,
          5892,
          6153,
          6093,
          6230,
          6871,
          8362,
          3372,
          4996,
          5558,
          5102,
          5698,
          6133,
          5459,
          6235,
          2368,
          2832,
          3423,
          6436,
          6296,
          6998,
          7403,
          6824,
          6864,
          7328,
          5107,
          6606,
          6398,
          7460,
          7132,
          6370,
          6691,
          4367,
          6565,
          7290,
          6624,
          1027,
          3214,
          5633,
          6196,
          5026,
          6233,
          4220,
          6304,
          5572,
          3272,
          2947,
          3333,
          6457,
          6883,
          7001,
          6241,
          5464,
          7112,
          8156,
          5259,
          5729,
          6118,
          2843,
          5115,
          7424,
          7384,
          7639,
          8294,
          7129,
          4359,
          6073,
          5260,
          6770,
          6734,
          6536,
          6591,
          6043,
          5743,
          6855,
          7338,
          4098,
          3784,
          3956,
          6460,
          6359,
          7055,
          6207,
          7013,
          6203,
          7965,
          5686,
          5375,
          7421,
          7363,
          7665,
          7702,
          6978,
          5099,
          6825,
          6211,
          5905,
          5823,
          7458,
          6891,
          6779,
          7442,
          7335,
          6879,
          5463,
          5687,
          4521,
          4375,
          4916,
          6857,
          6273,
          7494,
          4840,
          7273,
          7504,
          3510,
          5035,
          5008,
          7499,
          6969,
          6031,
          6830,
          6786,
          5713,
          6591,
          5870,
          4459,
          7410,
          6966,
          7592,
          8173,
          6861,
          6904,
          6685,
          6597,
          7105,
          7216,
          3425,
          2802,
          5382,
          5169,
          5728,
          7736,
          4672,
          7534,
          5976,
          5478,
          5315,
          5582,
          6883,
          6784,
          7347,
          7605,
          7148,
          7865,
          4549,
          6530,
          7006,
          7375,
          7765,
          7582,
          6053,
          5255,
          6917,
          7040,
          7697,
          7713,
          7350,
          2376,
          3830,
          4569,
          5585,
          4717,
          7498,
          6569,
          7286,
          8227,
          6392,
          5992,
          3228,
          7804,
          8009,
          8714,
          7333,
          6869,
          4073,
          7591,
          7720,
          8167,
          8395,
          7907,
          7436,
          7538,
          7733,
          7393,
          7415,
          8555,
          6889,
          3598,
          3831,
          4118,
          5918,
          6572,
          6598,
          6290,
          5786,
          7525,
          7691,
          6536,
          5170,
          7109,
          6639,
          5875,
          7534,
          7461,
          7509,
          5424,
          8090,
          6824,
          7058,
          7466,
          7693,
          7359,
          7444,
          7852,
          4459,
          22,
          1096,
          5566,
          2177,
          2169,
          4911,
          4862,
          7030,
          6664,
          7264,
          6299,
          7767,
          7570,
          6852,
          5501,
          4094,
          5495,
          5445,
          5698,
          5629,
          4669,
          5499,
          5634,
          5146,
          2425,
          3910,
          2277,
          2424,
          5087,
          3959,
          5260,
          5323,
          5668,
          4097,
          1529,
          5298,
          5409,
          7429,
          4972,
          7446,
          6544,
          7870,
          7282,
          6269,
          5319,
          5532,
          5611,
          5047,
          3786,
          4585,
          5557,
          5267,
          4128,
          3623,
          1749,
          1787,
          920,
          1013,
          441,
          2114,
          3095,
          1341,
          1796,
          2729
         ],
         "yaxis": "y"
        }
       ],
       "layout": {
        "legend": {
         "tracegroupgap": 0
        },
        "margin": {
         "t": 60
        },
        "template": {
         "data": {
          "bar": [
           {
            "error_x": {
             "color": "#2a3f5f"
            },
            "error_y": {
             "color": "#2a3f5f"
            },
            "marker": {
             "line": {
              "color": "#E5ECF6",
              "width": 0.5
             },
             "pattern": {
              "fillmode": "overlay",
              "size": 10,
              "solidity": 0.2
             }
            },
            "type": "bar"
           }
          ],
          "barpolar": [
           {
            "marker": {
             "line": {
              "color": "#E5ECF6",
              "width": 0.5
             },
             "pattern": {
              "fillmode": "overlay",
              "size": 10,
              "solidity": 0.2
             }
            },
            "type": "barpolar"
           }
          ],
          "carpet": [
           {
            "aaxis": {
             "endlinecolor": "#2a3f5f",
             "gridcolor": "white",
             "linecolor": "white",
             "minorgridcolor": "white",
             "startlinecolor": "#2a3f5f"
            },
            "baxis": {
             "endlinecolor": "#2a3f5f",
             "gridcolor": "white",
             "linecolor": "white",
             "minorgridcolor": "white",
             "startlinecolor": "#2a3f5f"
            },
            "type": "carpet"
           }
          ],
          "choropleth": [
           {
            "colorbar": {
             "outlinewidth": 0,
             "ticks": ""
            },
            "type": "choropleth"
           }
          ],
          "contour": [
           {
            "colorbar": {
             "outlinewidth": 0,
             "ticks": ""
            },
            "colorscale": [
             [
              0,
              "#0d0887"
             ],
             [
              0.1111111111111111,
              "#46039f"
             ],
             [
              0.2222222222222222,
              "#7201a8"
             ],
             [
              0.3333333333333333,
              "#9c179e"
             ],
             [
              0.4444444444444444,
              "#bd3786"
             ],
             [
              0.5555555555555556,
              "#d8576b"
             ],
             [
              0.6666666666666666,
              "#ed7953"
             ],
             [
              0.7777777777777778,
              "#fb9f3a"
             ],
             [
              0.8888888888888888,
              "#fdca26"
             ],
             [
              1,
              "#f0f921"
             ]
            ],
            "type": "contour"
           }
          ],
          "contourcarpet": [
           {
            "colorbar": {
             "outlinewidth": 0,
             "ticks": ""
            },
            "type": "contourcarpet"
           }
          ],
          "heatmap": [
           {
            "colorbar": {
             "outlinewidth": 0,
             "ticks": ""
            },
            "colorscale": [
             [
              0,
              "#0d0887"
             ],
             [
              0.1111111111111111,
              "#46039f"
             ],
             [
              0.2222222222222222,
              "#7201a8"
             ],
             [
              0.3333333333333333,
              "#9c179e"
             ],
             [
              0.4444444444444444,
              "#bd3786"
             ],
             [
              0.5555555555555556,
              "#d8576b"
             ],
             [
              0.6666666666666666,
              "#ed7953"
             ],
             [
              0.7777777777777778,
              "#fb9f3a"
             ],
             [
              0.8888888888888888,
              "#fdca26"
             ],
             [
              1,
              "#f0f921"
             ]
            ],
            "type": "heatmap"
           }
          ],
          "heatmapgl": [
           {
            "colorbar": {
             "outlinewidth": 0,
             "ticks": ""
            },
            "colorscale": [
             [
              0,
              "#0d0887"
             ],
             [
              0.1111111111111111,
              "#46039f"
             ],
             [
              0.2222222222222222,
              "#7201a8"
             ],
             [
              0.3333333333333333,
              "#9c179e"
             ],
             [
              0.4444444444444444,
              "#bd3786"
             ],
             [
              0.5555555555555556,
              "#d8576b"
             ],
             [
              0.6666666666666666,
              "#ed7953"
             ],
             [
              0.7777777777777778,
              "#fb9f3a"
             ],
             [
              0.8888888888888888,
              "#fdca26"
             ],
             [
              1,
              "#f0f921"
             ]
            ],
            "type": "heatmapgl"
           }
          ],
          "histogram": [
           {
            "marker": {
             "pattern": {
              "fillmode": "overlay",
              "size": 10,
              "solidity": 0.2
             }
            },
            "type": "histogram"
           }
          ],
          "histogram2d": [
           {
            "colorbar": {
             "outlinewidth": 0,
             "ticks": ""
            },
            "colorscale": [
             [
              0,
              "#0d0887"
             ],
             [
              0.1111111111111111,
              "#46039f"
             ],
             [
              0.2222222222222222,
              "#7201a8"
             ],
             [
              0.3333333333333333,
              "#9c179e"
             ],
             [
              0.4444444444444444,
              "#bd3786"
             ],
             [
              0.5555555555555556,
              "#d8576b"
             ],
             [
              0.6666666666666666,
              "#ed7953"
             ],
             [
              0.7777777777777778,
              "#fb9f3a"
             ],
             [
              0.8888888888888888,
              "#fdca26"
             ],
             [
              1,
              "#f0f921"
             ]
            ],
            "type": "histogram2d"
           }
          ],
          "histogram2dcontour": [
           {
            "colorbar": {
             "outlinewidth": 0,
             "ticks": ""
            },
            "colorscale": [
             [
              0,
              "#0d0887"
             ],
             [
              0.1111111111111111,
              "#46039f"
             ],
             [
              0.2222222222222222,
              "#7201a8"
             ],
             [
              0.3333333333333333,
              "#9c179e"
             ],
             [
              0.4444444444444444,
              "#bd3786"
             ],
             [
              0.5555555555555556,
              "#d8576b"
             ],
             [
              0.6666666666666666,
              "#ed7953"
             ],
             [
              0.7777777777777778,
              "#fb9f3a"
             ],
             [
              0.8888888888888888,
              "#fdca26"
             ],
             [
              1,
              "#f0f921"
             ]
            ],
            "type": "histogram2dcontour"
           }
          ],
          "mesh3d": [
           {
            "colorbar": {
             "outlinewidth": 0,
             "ticks": ""
            },
            "type": "mesh3d"
           }
          ],
          "parcoords": [
           {
            "line": {
             "colorbar": {
              "outlinewidth": 0,
              "ticks": ""
             }
            },
            "type": "parcoords"
           }
          ],
          "pie": [
           {
            "automargin": true,
            "type": "pie"
           }
          ],
          "scatter": [
           {
            "marker": {
             "colorbar": {
              "outlinewidth": 0,
              "ticks": ""
             }
            },
            "type": "scatter"
           }
          ],
          "scatter3d": [
           {
            "line": {
             "colorbar": {
              "outlinewidth": 0,
              "ticks": ""
             }
            },
            "marker": {
             "colorbar": {
              "outlinewidth": 0,
              "ticks": ""
             }
            },
            "type": "scatter3d"
           }
          ],
          "scattercarpet": [
           {
            "marker": {
             "colorbar": {
              "outlinewidth": 0,
              "ticks": ""
             }
            },
            "type": "scattercarpet"
           }
          ],
          "scattergeo": [
           {
            "marker": {
             "colorbar": {
              "outlinewidth": 0,
              "ticks": ""
             }
            },
            "type": "scattergeo"
           }
          ],
          "scattergl": [
           {
            "marker": {
             "colorbar": {
              "outlinewidth": 0,
              "ticks": ""
             }
            },
            "type": "scattergl"
           }
          ],
          "scattermapbox": [
           {
            "marker": {
             "colorbar": {
              "outlinewidth": 0,
              "ticks": ""
             }
            },
            "type": "scattermapbox"
           }
          ],
          "scatterpolar": [
           {
            "marker": {
             "colorbar": {
              "outlinewidth": 0,
              "ticks": ""
             }
            },
            "type": "scatterpolar"
           }
          ],
          "scatterpolargl": [
           {
            "marker": {
             "colorbar": {
              "outlinewidth": 0,
              "ticks": ""
             }
            },
            "type": "scatterpolargl"
           }
          ],
          "scatterternary": [
           {
            "marker": {
             "colorbar": {
              "outlinewidth": 0,
              "ticks": ""
             }
            },
            "type": "scatterternary"
           }
          ],
          "surface": [
           {
            "colorbar": {
             "outlinewidth": 0,
             "ticks": ""
            },
            "colorscale": [
             [
              0,
              "#0d0887"
             ],
             [
              0.1111111111111111,
              "#46039f"
             ],
             [
              0.2222222222222222,
              "#7201a8"
             ],
             [
              0.3333333333333333,
              "#9c179e"
             ],
             [
              0.4444444444444444,
              "#bd3786"
             ],
             [
              0.5555555555555556,
              "#d8576b"
             ],
             [
              0.6666666666666666,
              "#ed7953"
             ],
             [
              0.7777777777777778,
              "#fb9f3a"
             ],
             [
              0.8888888888888888,
              "#fdca26"
             ],
             [
              1,
              "#f0f921"
             ]
            ],
            "type": "surface"
           }
          ],
          "table": [
           {
            "cells": {
             "fill": {
              "color": "#EBF0F8"
             },
             "line": {
              "color": "white"
             }
            },
            "header": {
             "fill": {
              "color": "#C8D4E3"
             },
             "line": {
              "color": "white"
             }
            },
            "type": "table"
           }
          ]
         },
         "layout": {
          "annotationdefaults": {
           "arrowcolor": "#2a3f5f",
           "arrowhead": 0,
           "arrowwidth": 1
          },
          "autotypenumbers": "strict",
          "coloraxis": {
           "colorbar": {
            "outlinewidth": 0,
            "ticks": ""
           }
          },
          "colorscale": {
           "diverging": [
            [
             0,
             "#8e0152"
            ],
            [
             0.1,
             "#c51b7d"
            ],
            [
             0.2,
             "#de77ae"
            ],
            [
             0.3,
             "#f1b6da"
            ],
            [
             0.4,
             "#fde0ef"
            ],
            [
             0.5,
             "#f7f7f7"
            ],
            [
             0.6,
             "#e6f5d0"
            ],
            [
             0.7,
             "#b8e186"
            ],
            [
             0.8,
             "#7fbc41"
            ],
            [
             0.9,
             "#4d9221"
            ],
            [
             1,
             "#276419"
            ]
           ],
           "sequential": [
            [
             0,
             "#0d0887"
            ],
            [
             0.1111111111111111,
             "#46039f"
            ],
            [
             0.2222222222222222,
             "#7201a8"
            ],
            [
             0.3333333333333333,
             "#9c179e"
            ],
            [
             0.4444444444444444,
             "#bd3786"
            ],
            [
             0.5555555555555556,
             "#d8576b"
            ],
            [
             0.6666666666666666,
             "#ed7953"
            ],
            [
             0.7777777777777778,
             "#fb9f3a"
            ],
            [
             0.8888888888888888,
             "#fdca26"
            ],
            [
             1,
             "#f0f921"
            ]
           ],
           "sequentialminus": [
            [
             0,
             "#0d0887"
            ],
            [
             0.1111111111111111,
             "#46039f"
            ],
            [
             0.2222222222222222,
             "#7201a8"
            ],
            [
             0.3333333333333333,
             "#9c179e"
            ],
            [
             0.4444444444444444,
             "#bd3786"
            ],
            [
             0.5555555555555556,
             "#d8576b"
            ],
            [
             0.6666666666666666,
             "#ed7953"
            ],
            [
             0.7777777777777778,
             "#fb9f3a"
            ],
            [
             0.8888888888888888,
             "#fdca26"
            ],
            [
             1,
             "#f0f921"
            ]
           ]
          },
          "colorway": [
           "#636efa",
           "#EF553B",
           "#00cc96",
           "#ab63fa",
           "#FFA15A",
           "#19d3f3",
           "#FF6692",
           "#B6E880",
           "#FF97FF",
           "#FECB52"
          ],
          "font": {
           "color": "#2a3f5f"
          },
          "geo": {
           "bgcolor": "white",
           "lakecolor": "white",
           "landcolor": "#E5ECF6",
           "showlakes": true,
           "showland": true,
           "subunitcolor": "white"
          },
          "hoverlabel": {
           "align": "left"
          },
          "hovermode": "closest",
          "mapbox": {
           "style": "light"
          },
          "paper_bgcolor": "white",
          "plot_bgcolor": "#E5ECF6",
          "polar": {
           "angularaxis": {
            "gridcolor": "white",
            "linecolor": "white",
            "ticks": ""
           },
           "bgcolor": "#E5ECF6",
           "radialaxis": {
            "gridcolor": "white",
            "linecolor": "white",
            "ticks": ""
           }
          },
          "scene": {
           "xaxis": {
            "backgroundcolor": "#E5ECF6",
            "gridcolor": "white",
            "gridwidth": 2,
            "linecolor": "white",
            "showbackground": true,
            "ticks": "",
            "zerolinecolor": "white"
           },
           "yaxis": {
            "backgroundcolor": "#E5ECF6",
            "gridcolor": "white",
            "gridwidth": 2,
            "linecolor": "white",
            "showbackground": true,
            "ticks": "",
            "zerolinecolor": "white"
           },
           "zaxis": {
            "backgroundcolor": "#E5ECF6",
            "gridcolor": "white",
            "gridwidth": 2,
            "linecolor": "white",
            "showbackground": true,
            "ticks": "",
            "zerolinecolor": "white"
           }
          },
          "shapedefaults": {
           "line": {
            "color": "#2a3f5f"
           }
          },
          "ternary": {
           "aaxis": {
            "gridcolor": "white",
            "linecolor": "white",
            "ticks": ""
           },
           "baxis": {
            "gridcolor": "white",
            "linecolor": "white",
            "ticks": ""
           },
           "bgcolor": "#E5ECF6",
           "caxis": {
            "gridcolor": "white",
            "linecolor": "white",
            "ticks": ""
           }
          },
          "title": {
           "x": 0.05
          },
          "xaxis": {
           "automargin": true,
           "gridcolor": "white",
           "linecolor": "white",
           "ticks": "",
           "title": {
            "standoff": 15
           },
           "zerolinecolor": "white",
           "zerolinewidth": 2
          },
          "yaxis": {
           "automargin": true,
           "gridcolor": "white",
           "linecolor": "white",
           "ticks": "",
           "title": {
            "standoff": 15
           },
           "zerolinecolor": "white",
           "zerolinewidth": 2
          }
         }
        },
        "xaxis": {
         "anchor": "y",
         "domain": [
          0,
          1
         ],
         "title": {
          "text": "dteday"
         }
        },
        "yaxis": {
         "anchor": "x",
         "domain": [
          0,
          1
         ],
         "title": {
          "text": "cnt"
         }
        }
       }
      },
      "text/html": [
       "<div>                            <div id=\"00a0756d-3ada-458e-980d-bfefe575cbd8\" class=\"plotly-graph-div\" style=\"height:525px; width:100%;\"></div>            <script type=\"text/javascript\">                require([\"plotly\"], function(Plotly) {                    window.PLOTLYENV=window.PLOTLYENV || {};                                    if (document.getElementById(\"00a0756d-3ada-458e-980d-bfefe575cbd8\")) {                    Plotly.newPlot(                        \"00a0756d-3ada-458e-980d-bfefe575cbd8\",                        [{\"hovertemplate\":\"dteday=%{x}<br>cnt=%{y}<extra></extra>\",\"legendgroup\":\"\",\"line\":{\"color\":\"#636efa\",\"dash\":\"solid\"},\"marker\":{\"symbol\":\"circle\"},\"mode\":\"lines\",\"name\":\"\",\"orientation\":\"v\",\"showlegend\":false,\"x\":[\"2018-01-01T00:00:00\",\"2018-01-02T00:00:00\",\"2018-01-03T00:00:00\",\"2018-01-04T00:00:00\",\"2018-01-05T00:00:00\",\"2018-01-06T00:00:00\",\"2018-01-07T00:00:00\",\"2018-01-08T00:00:00\",\"2018-01-09T00:00:00\",\"2018-01-10T00:00:00\",\"2018-01-11T00:00:00\",\"2018-01-12T00:00:00\",\"2018-01-13T00:00:00\",\"2018-01-14T00:00:00\",\"2018-01-15T00:00:00\",\"2018-01-16T00:00:00\",\"2018-01-17T00:00:00\",\"2018-01-18T00:00:00\",\"2018-01-19T00:00:00\",\"2018-01-20T00:00:00\",\"2018-01-21T00:00:00\",\"2018-01-22T00:00:00\",\"2018-01-23T00:00:00\",\"2018-01-24T00:00:00\",\"2018-01-25T00:00:00\",\"2018-01-26T00:00:00\",\"2018-01-27T00:00:00\",\"2018-01-28T00:00:00\",\"2018-01-29T00:00:00\",\"2018-01-30T00:00:00\",\"2018-01-31T00:00:00\",\"2018-02-01T00:00:00\",\"2018-02-02T00:00:00\",\"2018-02-03T00:00:00\",\"2018-02-04T00:00:00\",\"2018-02-05T00:00:00\",\"2018-02-06T00:00:00\",\"2018-02-07T00:00:00\",\"2018-02-08T00:00:00\",\"2018-02-09T00:00:00\",\"2018-02-10T00:00:00\",\"2018-02-11T00:00:00\",\"2018-02-12T00:00:00\",\"2018-02-13T00:00:00\",\"2018-02-14T00:00:00\",\"2018-02-15T00:00:00\",\"2018-02-16T00:00:00\",\"2018-02-17T00:00:00\",\"2018-02-18T00:00:00\",\"2018-02-19T00:00:00\",\"2018-02-20T00:00:00\",\"2018-02-21T00:00:00\",\"2018-02-22T00:00:00\",\"2018-02-23T00:00:00\",\"2018-02-24T00:00:00\",\"2018-02-25T00:00:00\",\"2018-02-26T00:00:00\",\"2018-02-27T00:00:00\",\"2018-02-28T00:00:00\",\"2018-03-01T00:00:00\",\"2018-03-02T00:00:00\",\"2018-03-03T00:00:00\",\"2018-03-04T00:00:00\",\"2018-03-05T00:00:00\",\"2018-03-06T00:00:00\",\"2018-03-07T00:00:00\",\"2018-03-08T00:00:00\",\"2018-03-09T00:00:00\",\"2018-03-10T00:00:00\",\"2018-03-11T00:00:00\",\"2018-03-12T00:00:00\",\"2018-03-13T00:00:00\",\"2018-03-14T00:00:00\",\"2018-03-15T00:00:00\",\"2018-03-16T00:00:00\",\"2018-03-17T00:00:00\",\"2018-03-18T00:00:00\",\"2018-03-19T00:00:00\",\"2018-03-20T00:00:00\",\"2018-03-21T00:00:00\",\"2018-03-22T00:00:00\",\"2018-03-23T00:00:00\",\"2018-03-24T00:00:00\",\"2018-03-25T00:00:00\",\"2018-03-26T00:00:00\",\"2018-03-27T00:00:00\",\"2018-03-28T00:00:00\",\"2018-03-29T00:00:00\",\"2018-03-30T00:00:00\",\"2018-03-31T00:00:00\",\"2018-04-01T00:00:00\",\"2018-04-02T00:00:00\",\"2018-04-03T00:00:00\",\"2018-04-04T00:00:00\",\"2018-04-05T00:00:00\",\"2018-04-06T00:00:00\",\"2018-04-07T00:00:00\",\"2018-04-08T00:00:00\",\"2018-04-09T00:00:00\",\"2018-04-10T00:00:00\",\"2018-04-11T00:00:00\",\"2018-04-12T00:00:00\",\"2018-04-13T00:00:00\",\"2018-04-14T00:00:00\",\"2018-04-15T00:00:00\",\"2018-04-16T00:00:00\",\"2018-04-17T00:00:00\",\"2018-04-18T00:00:00\",\"2018-04-19T00:00:00\",\"2018-04-20T00:00:00\",\"2018-04-21T00:00:00\",\"2018-04-22T00:00:00\",\"2018-04-23T00:00:00\",\"2018-04-24T00:00:00\",\"2018-04-25T00:00:00\",\"2018-04-26T00:00:00\",\"2018-04-27T00:00:00\",\"2018-04-28T00:00:00\",\"2018-04-29T00:00:00\",\"2018-04-30T00:00:00\",\"2018-05-01T00:00:00\",\"2018-05-02T00:00:00\",\"2018-05-03T00:00:00\",\"2018-05-04T00:00:00\",\"2018-05-05T00:00:00\",\"2018-05-06T00:00:00\",\"2018-05-07T00:00:00\",\"2018-05-08T00:00:00\",\"2018-05-09T00:00:00\",\"2018-05-10T00:00:00\",\"2018-05-11T00:00:00\",\"2018-05-12T00:00:00\",\"2018-05-13T00:00:00\",\"2018-05-14T00:00:00\",\"2018-05-15T00:00:00\",\"2018-05-16T00:00:00\",\"2018-05-17T00:00:00\",\"2018-05-18T00:00:00\",\"2018-05-19T00:00:00\",\"2018-05-20T00:00:00\",\"2018-05-21T00:00:00\",\"2018-05-22T00:00:00\",\"2018-05-23T00:00:00\",\"2018-05-24T00:00:00\",\"2018-05-25T00:00:00\",\"2018-05-26T00:00:00\",\"2018-05-27T00:00:00\",\"2018-05-28T00:00:00\",\"2018-05-29T00:00:00\",\"2018-05-30T00:00:00\",\"2018-05-31T00:00:00\",\"2018-06-01T00:00:00\",\"2018-06-02T00:00:00\",\"2018-06-03T00:00:00\",\"2018-06-04T00:00:00\",\"2018-06-05T00:00:00\",\"2018-06-06T00:00:00\",\"2018-06-07T00:00:00\",\"2018-06-08T00:00:00\",\"2018-06-09T00:00:00\",\"2018-06-10T00:00:00\",\"2018-06-11T00:00:00\",\"2018-06-12T00:00:00\",\"2018-06-13T00:00:00\",\"2018-06-14T00:00:00\",\"2018-06-15T00:00:00\",\"2018-06-16T00:00:00\",\"2018-06-17T00:00:00\",\"2018-06-18T00:00:00\",\"2018-06-19T00:00:00\",\"2018-06-20T00:00:00\",\"2018-06-21T00:00:00\",\"2018-06-22T00:00:00\",\"2018-06-23T00:00:00\",\"2018-06-24T00:00:00\",\"2018-06-25T00:00:00\",\"2018-06-26T00:00:00\",\"2018-06-27T00:00:00\",\"2018-06-28T00:00:00\",\"2018-06-29T00:00:00\",\"2018-06-30T00:00:00\",\"2018-07-01T00:00:00\",\"2018-07-02T00:00:00\",\"2018-07-03T00:00:00\",\"2018-07-04T00:00:00\",\"2018-07-05T00:00:00\",\"2018-07-06T00:00:00\",\"2018-07-07T00:00:00\",\"2018-07-08T00:00:00\",\"2018-07-09T00:00:00\",\"2018-07-10T00:00:00\",\"2018-07-11T00:00:00\",\"2018-07-12T00:00:00\",\"2018-07-13T00:00:00\",\"2018-07-14T00:00:00\",\"2018-07-15T00:00:00\",\"2018-07-16T00:00:00\",\"2018-07-17T00:00:00\",\"2018-07-18T00:00:00\",\"2018-07-19T00:00:00\",\"2018-07-20T00:00:00\",\"2018-07-21T00:00:00\",\"2018-07-22T00:00:00\",\"2018-07-23T00:00:00\",\"2018-07-24T00:00:00\",\"2018-07-25T00:00:00\",\"2018-07-26T00:00:00\",\"2018-07-27T00:00:00\",\"2018-07-28T00:00:00\",\"2018-07-29T00:00:00\",\"2018-07-30T00:00:00\",\"2018-07-31T00:00:00\",\"2018-08-01T00:00:00\",\"2018-08-02T00:00:00\",\"2018-08-03T00:00:00\",\"2018-08-04T00:00:00\",\"2018-08-05T00:00:00\",\"2018-08-06T00:00:00\",\"2018-08-07T00:00:00\",\"2018-08-08T00:00:00\",\"2018-08-09T00:00:00\",\"2018-08-10T00:00:00\",\"2018-08-11T00:00:00\",\"2018-08-12T00:00:00\",\"2018-08-13T00:00:00\",\"2018-08-14T00:00:00\",\"2018-08-15T00:00:00\",\"2018-08-16T00:00:00\",\"2018-08-17T00:00:00\",\"2018-08-18T00:00:00\",\"2018-08-19T00:00:00\",\"2018-08-20T00:00:00\",\"2018-08-21T00:00:00\",\"2018-08-22T00:00:00\",\"2018-08-23T00:00:00\",\"2018-08-24T00:00:00\",\"2018-08-25T00:00:00\",\"2018-08-26T00:00:00\",\"2018-08-27T00:00:00\",\"2018-08-28T00:00:00\",\"2018-08-29T00:00:00\",\"2018-08-30T00:00:00\",\"2018-08-31T00:00:00\",\"2018-09-01T00:00:00\",\"2018-09-02T00:00:00\",\"2018-09-03T00:00:00\",\"2018-09-04T00:00:00\",\"2018-09-05T00:00:00\",\"2018-09-06T00:00:00\",\"2018-09-07T00:00:00\",\"2018-09-08T00:00:00\",\"2018-09-09T00:00:00\",\"2018-09-10T00:00:00\",\"2018-09-11T00:00:00\",\"2018-09-12T00:00:00\",\"2018-09-13T00:00:00\",\"2018-09-14T00:00:00\",\"2018-09-15T00:00:00\",\"2018-09-16T00:00:00\",\"2018-09-17T00:00:00\",\"2018-09-18T00:00:00\",\"2018-09-19T00:00:00\",\"2018-09-20T00:00:00\",\"2018-09-21T00:00:00\",\"2018-09-22T00:00:00\",\"2018-09-23T00:00:00\",\"2018-09-24T00:00:00\",\"2018-09-25T00:00:00\",\"2018-09-26T00:00:00\",\"2018-09-27T00:00:00\",\"2018-09-28T00:00:00\",\"2018-09-29T00:00:00\",\"2018-09-30T00:00:00\",\"2018-10-01T00:00:00\",\"2018-10-02T00:00:00\",\"2018-10-03T00:00:00\",\"2018-10-04T00:00:00\",\"2018-10-05T00:00:00\",\"2018-10-06T00:00:00\",\"2018-10-07T00:00:00\",\"2018-10-08T00:00:00\",\"2018-10-09T00:00:00\",\"2018-10-10T00:00:00\",\"2018-10-11T00:00:00\",\"2018-10-12T00:00:00\",\"2018-10-13T00:00:00\",\"2018-10-14T00:00:00\",\"2018-10-15T00:00:00\",\"2018-10-16T00:00:00\",\"2018-10-17T00:00:00\",\"2018-10-18T00:00:00\",\"2018-10-19T00:00:00\",\"2018-10-20T00:00:00\",\"2018-10-21T00:00:00\",\"2018-10-22T00:00:00\",\"2018-10-23T00:00:00\",\"2018-10-24T00:00:00\",\"2018-10-25T00:00:00\",\"2018-10-26T00:00:00\",\"2018-10-27T00:00:00\",\"2018-10-28T00:00:00\",\"2018-10-29T00:00:00\",\"2018-10-30T00:00:00\",\"2018-10-31T00:00:00\",\"2018-11-01T00:00:00\",\"2018-11-02T00:00:00\",\"2018-11-03T00:00:00\",\"2018-11-04T00:00:00\",\"2018-11-05T00:00:00\",\"2018-11-06T00:00:00\",\"2018-11-07T00:00:00\",\"2018-11-08T00:00:00\",\"2018-11-09T00:00:00\",\"2018-11-10T00:00:00\",\"2018-11-11T00:00:00\",\"2018-11-12T00:00:00\",\"2018-11-13T00:00:00\",\"2018-11-14T00:00:00\",\"2018-11-15T00:00:00\",\"2018-11-16T00:00:00\",\"2018-11-17T00:00:00\",\"2018-11-18T00:00:00\",\"2018-11-19T00:00:00\",\"2018-11-20T00:00:00\",\"2018-11-21T00:00:00\",\"2018-11-22T00:00:00\",\"2018-11-23T00:00:00\",\"2018-11-24T00:00:00\",\"2018-11-25T00:00:00\",\"2018-11-26T00:00:00\",\"2018-11-27T00:00:00\",\"2018-11-28T00:00:00\",\"2018-11-29T00:00:00\",\"2018-11-30T00:00:00\",\"2018-12-01T00:00:00\",\"2018-12-02T00:00:00\",\"2018-12-03T00:00:00\",\"2018-12-04T00:00:00\",\"2018-12-05T00:00:00\",\"2018-12-06T00:00:00\",\"2018-12-07T00:00:00\",\"2018-12-08T00:00:00\",\"2018-12-09T00:00:00\",\"2018-12-10T00:00:00\",\"2018-12-11T00:00:00\",\"2018-12-12T00:00:00\",\"2018-12-13T00:00:00\",\"2018-12-14T00:00:00\",\"2018-12-15T00:00:00\",\"2018-12-16T00:00:00\",\"2018-12-17T00:00:00\",\"2018-12-18T00:00:00\",\"2018-12-19T00:00:00\",\"2018-12-20T00:00:00\",\"2018-12-21T00:00:00\",\"2018-12-22T00:00:00\",\"2018-12-23T00:00:00\",\"2018-12-24T00:00:00\",\"2018-12-25T00:00:00\",\"2018-12-26T00:00:00\",\"2018-12-27T00:00:00\",\"2018-12-28T00:00:00\",\"2018-12-29T00:00:00\",\"2018-12-30T00:00:00\",\"2018-12-31T00:00:00\",\"2019-01-01T00:00:00\",\"2019-01-02T00:00:00\",\"2019-01-03T00:00:00\",\"2019-01-04T00:00:00\",\"2019-01-05T00:00:00\",\"2019-01-06T00:00:00\",\"2019-01-07T00:00:00\",\"2019-01-08T00:00:00\",\"2019-01-09T00:00:00\",\"2019-01-10T00:00:00\",\"2019-01-11T00:00:00\",\"2019-01-12T00:00:00\",\"2019-01-13T00:00:00\",\"2019-01-14T00:00:00\",\"2019-01-15T00:00:00\",\"2019-01-16T00:00:00\",\"2019-01-17T00:00:00\",\"2019-01-18T00:00:00\",\"2019-01-19T00:00:00\",\"2019-01-20T00:00:00\",\"2019-01-21T00:00:00\",\"2019-01-22T00:00:00\",\"2019-01-23T00:00:00\",\"2019-01-24T00:00:00\",\"2019-01-25T00:00:00\",\"2019-01-26T00:00:00\",\"2019-01-27T00:00:00\",\"2019-01-28T00:00:00\",\"2019-01-29T00:00:00\",\"2019-01-30T00:00:00\",\"2019-01-31T00:00:00\",\"2019-02-01T00:00:00\",\"2019-02-02T00:00:00\",\"2019-02-03T00:00:00\",\"2019-02-04T00:00:00\",\"2019-02-05T00:00:00\",\"2019-02-06T00:00:00\",\"2019-02-07T00:00:00\",\"2019-02-08T00:00:00\",\"2019-02-09T00:00:00\",\"2019-02-10T00:00:00\",\"2019-02-11T00:00:00\",\"2019-02-12T00:00:00\",\"2019-02-13T00:00:00\",\"2019-02-14T00:00:00\",\"2019-02-15T00:00:00\",\"2019-02-16T00:00:00\",\"2019-02-17T00:00:00\",\"2019-02-18T00:00:00\",\"2019-02-19T00:00:00\",\"2019-02-20T00:00:00\",\"2019-02-21T00:00:00\",\"2019-02-22T00:00:00\",\"2019-02-23T00:00:00\",\"2019-02-24T00:00:00\",\"2019-02-25T00:00:00\",\"2019-02-26T00:00:00\",\"2019-02-27T00:00:00\",\"2019-02-28T00:00:00\",\"2019-03-01T00:00:00\",\"2019-03-02T00:00:00\",\"2019-03-03T00:00:00\",\"2019-03-04T00:00:00\",\"2019-03-05T00:00:00\",\"2019-03-06T00:00:00\",\"2019-03-07T00:00:00\",\"2019-03-08T00:00:00\",\"2019-03-09T00:00:00\",\"2019-03-10T00:00:00\",\"2019-03-11T00:00:00\",\"2019-03-12T00:00:00\",\"2019-03-13T00:00:00\",\"2019-03-14T00:00:00\",\"2019-03-15T00:00:00\",\"2019-03-16T00:00:00\",\"2019-03-17T00:00:00\",\"2019-03-18T00:00:00\",\"2019-03-19T00:00:00\",\"2019-03-20T00:00:00\",\"2019-03-21T00:00:00\",\"2019-03-22T00:00:00\",\"2019-03-23T00:00:00\",\"2019-03-24T00:00:00\",\"2019-03-25T00:00:00\",\"2019-03-26T00:00:00\",\"2019-03-27T00:00:00\",\"2019-03-28T00:00:00\",\"2019-03-29T00:00:00\",\"2019-03-30T00:00:00\",\"2019-03-31T00:00:00\",\"2019-04-01T00:00:00\",\"2019-04-02T00:00:00\",\"2019-04-03T00:00:00\",\"2019-04-04T00:00:00\",\"2019-04-05T00:00:00\",\"2019-04-06T00:00:00\",\"2019-04-07T00:00:00\",\"2019-04-08T00:00:00\",\"2019-04-09T00:00:00\",\"2019-04-10T00:00:00\",\"2019-04-11T00:00:00\",\"2019-04-12T00:00:00\",\"2019-04-13T00:00:00\",\"2019-04-14T00:00:00\",\"2019-04-15T00:00:00\",\"2019-04-16T00:00:00\",\"2019-04-17T00:00:00\",\"2019-04-18T00:00:00\",\"2019-04-19T00:00:00\",\"2019-04-20T00:00:00\",\"2019-04-21T00:00:00\",\"2019-04-22T00:00:00\",\"2019-04-23T00:00:00\",\"2019-04-24T00:00:00\",\"2019-04-25T00:00:00\",\"2019-04-26T00:00:00\",\"2019-04-27T00:00:00\",\"2019-04-28T00:00:00\",\"2019-04-29T00:00:00\",\"2019-04-30T00:00:00\",\"2019-05-01T00:00:00\",\"2019-05-02T00:00:00\",\"2019-05-03T00:00:00\",\"2019-05-04T00:00:00\",\"2019-05-05T00:00:00\",\"2019-05-06T00:00:00\",\"2019-05-07T00:00:00\",\"2019-05-08T00:00:00\",\"2019-05-09T00:00:00\",\"2019-05-10T00:00:00\",\"2019-05-11T00:00:00\",\"2019-05-12T00:00:00\",\"2019-05-13T00:00:00\",\"2019-05-14T00:00:00\",\"2019-05-15T00:00:00\",\"2019-05-16T00:00:00\",\"2019-05-17T00:00:00\",\"2019-05-18T00:00:00\",\"2019-05-19T00:00:00\",\"2019-05-20T00:00:00\",\"2019-05-21T00:00:00\",\"2019-05-22T00:00:00\",\"2019-05-23T00:00:00\",\"2019-05-24T00:00:00\",\"2019-05-25T00:00:00\",\"2019-05-26T00:00:00\",\"2019-05-27T00:00:00\",\"2019-05-28T00:00:00\",\"2019-05-29T00:00:00\",\"2019-05-30T00:00:00\",\"2019-05-31T00:00:00\",\"2019-06-01T00:00:00\",\"2019-06-02T00:00:00\",\"2019-06-03T00:00:00\",\"2019-06-04T00:00:00\",\"2019-06-05T00:00:00\",\"2019-06-06T00:00:00\",\"2019-06-07T00:00:00\",\"2019-06-08T00:00:00\",\"2019-06-09T00:00:00\",\"2019-06-10T00:00:00\",\"2019-06-11T00:00:00\",\"2019-06-12T00:00:00\",\"2019-06-13T00:00:00\",\"2019-06-14T00:00:00\",\"2019-06-15T00:00:00\",\"2019-06-16T00:00:00\",\"2019-06-17T00:00:00\",\"2019-06-18T00:00:00\",\"2019-06-19T00:00:00\",\"2019-06-20T00:00:00\",\"2019-06-21T00:00:00\",\"2019-06-22T00:00:00\",\"2019-06-23T00:00:00\",\"2019-06-24T00:00:00\",\"2019-06-25T00:00:00\",\"2019-06-26T00:00:00\",\"2019-06-27T00:00:00\",\"2019-06-28T00:00:00\",\"2019-06-29T00:00:00\",\"2019-06-30T00:00:00\",\"2019-07-01T00:00:00\",\"2019-07-02T00:00:00\",\"2019-07-03T00:00:00\",\"2019-07-04T00:00:00\",\"2019-07-05T00:00:00\",\"2019-07-06T00:00:00\",\"2019-07-07T00:00:00\",\"2019-07-08T00:00:00\",\"2019-07-09T00:00:00\",\"2019-07-10T00:00:00\",\"2019-07-11T00:00:00\",\"2019-07-12T00:00:00\",\"2019-07-13T00:00:00\",\"2019-07-14T00:00:00\",\"2019-07-15T00:00:00\",\"2019-07-16T00:00:00\",\"2019-07-17T00:00:00\",\"2019-07-18T00:00:00\",\"2019-07-19T00:00:00\",\"2019-07-20T00:00:00\",\"2019-07-21T00:00:00\",\"2019-07-22T00:00:00\",\"2019-07-23T00:00:00\",\"2019-07-24T00:00:00\",\"2019-07-25T00:00:00\",\"2019-07-26T00:00:00\",\"2019-07-27T00:00:00\",\"2019-07-28T00:00:00\",\"2019-07-29T00:00:00\",\"2019-07-30T00:00:00\",\"2019-07-31T00:00:00\",\"2019-08-01T00:00:00\",\"2019-08-02T00:00:00\",\"2019-08-03T00:00:00\",\"2019-08-04T00:00:00\",\"2019-08-05T00:00:00\",\"2019-08-06T00:00:00\",\"2019-08-07T00:00:00\",\"2019-08-08T00:00:00\",\"2019-08-09T00:00:00\",\"2019-08-10T00:00:00\",\"2019-08-11T00:00:00\",\"2019-08-12T00:00:00\",\"2019-08-13T00:00:00\",\"2019-08-14T00:00:00\",\"2019-08-15T00:00:00\",\"2019-08-16T00:00:00\",\"2019-08-17T00:00:00\",\"2019-08-18T00:00:00\",\"2019-08-19T00:00:00\",\"2019-08-20T00:00:00\",\"2019-08-21T00:00:00\",\"2019-08-22T00:00:00\",\"2019-08-23T00:00:00\",\"2019-08-24T00:00:00\",\"2019-08-25T00:00:00\",\"2019-08-26T00:00:00\",\"2019-08-27T00:00:00\",\"2019-08-28T00:00:00\",\"2019-08-29T00:00:00\",\"2019-08-30T00:00:00\",\"2019-08-31T00:00:00\",\"2019-09-01T00:00:00\",\"2019-09-02T00:00:00\",\"2019-09-03T00:00:00\",\"2019-09-04T00:00:00\",\"2019-09-05T00:00:00\",\"2019-09-06T00:00:00\",\"2019-09-07T00:00:00\",\"2019-09-08T00:00:00\",\"2019-09-09T00:00:00\",\"2019-09-10T00:00:00\",\"2019-09-11T00:00:00\",\"2019-09-12T00:00:00\",\"2019-09-13T00:00:00\",\"2019-09-14T00:00:00\",\"2019-09-15T00:00:00\",\"2019-09-16T00:00:00\",\"2019-09-17T00:00:00\",\"2019-09-18T00:00:00\",\"2019-09-19T00:00:00\",\"2019-09-20T00:00:00\",\"2019-09-21T00:00:00\",\"2019-09-22T00:00:00\",\"2019-09-23T00:00:00\",\"2019-09-24T00:00:00\",\"2019-09-25T00:00:00\",\"2019-09-26T00:00:00\",\"2019-09-27T00:00:00\",\"2019-09-28T00:00:00\",\"2019-09-29T00:00:00\",\"2019-09-30T00:00:00\",\"2019-10-01T00:00:00\",\"2019-10-02T00:00:00\",\"2019-10-03T00:00:00\",\"2019-10-04T00:00:00\",\"2019-10-05T00:00:00\",\"2019-10-06T00:00:00\",\"2019-10-07T00:00:00\",\"2019-10-08T00:00:00\",\"2019-10-09T00:00:00\",\"2019-10-10T00:00:00\",\"2019-10-11T00:00:00\",\"2019-10-12T00:00:00\",\"2019-10-13T00:00:00\",\"2019-10-14T00:00:00\",\"2019-10-15T00:00:00\",\"2019-10-16T00:00:00\",\"2019-10-17T00:00:00\",\"2019-10-18T00:00:00\",\"2019-10-19T00:00:00\",\"2019-10-20T00:00:00\",\"2019-10-21T00:00:00\",\"2019-10-22T00:00:00\",\"2019-10-23T00:00:00\",\"2019-10-24T00:00:00\",\"2019-10-25T00:00:00\",\"2019-10-26T00:00:00\",\"2019-10-27T00:00:00\",\"2019-10-28T00:00:00\",\"2019-10-29T00:00:00\",\"2019-10-30T00:00:00\",\"2019-10-31T00:00:00\",\"2019-11-01T00:00:00\",\"2019-11-02T00:00:00\",\"2019-11-03T00:00:00\",\"2019-11-04T00:00:00\",\"2019-11-05T00:00:00\",\"2019-11-06T00:00:00\",\"2019-11-07T00:00:00\",\"2019-11-08T00:00:00\",\"2019-11-09T00:00:00\",\"2019-11-10T00:00:00\",\"2019-11-11T00:00:00\",\"2019-11-12T00:00:00\",\"2019-11-13T00:00:00\",\"2019-11-14T00:00:00\",\"2019-11-15T00:00:00\",\"2019-11-16T00:00:00\",\"2019-11-17T00:00:00\",\"2019-11-18T00:00:00\",\"2019-11-19T00:00:00\",\"2019-11-20T00:00:00\",\"2019-11-21T00:00:00\",\"2019-11-22T00:00:00\",\"2019-11-23T00:00:00\",\"2019-11-24T00:00:00\",\"2019-11-25T00:00:00\",\"2019-11-26T00:00:00\",\"2019-11-27T00:00:00\",\"2019-11-28T00:00:00\",\"2019-11-29T00:00:00\",\"2019-11-30T00:00:00\",\"2019-12-01T00:00:00\",\"2019-12-02T00:00:00\",\"2019-12-03T00:00:00\",\"2019-12-04T00:00:00\",\"2019-12-05T00:00:00\",\"2019-12-06T00:00:00\",\"2019-12-07T00:00:00\",\"2019-12-08T00:00:00\",\"2019-12-09T00:00:00\",\"2019-12-10T00:00:00\",\"2019-12-11T00:00:00\",\"2019-12-12T00:00:00\",\"2019-12-13T00:00:00\",\"2019-12-14T00:00:00\",\"2019-12-15T00:00:00\",\"2019-12-16T00:00:00\",\"2019-12-17T00:00:00\",\"2019-12-18T00:00:00\",\"2019-12-19T00:00:00\",\"2019-12-20T00:00:00\",\"2019-12-21T00:00:00\",\"2019-12-22T00:00:00\",\"2019-12-23T00:00:00\",\"2019-12-24T00:00:00\",\"2019-12-25T00:00:00\",\"2019-12-26T00:00:00\",\"2019-12-27T00:00:00\",\"2019-12-28T00:00:00\",\"2019-12-29T00:00:00\",\"2019-12-30T00:00:00\",\"2019-12-31T00:00:00\"],\"xaxis\":\"x\",\"y\":[985,1360,1851,2227,3351,3974,5362,4266,5115,2429,4068,3727,1406,1421,1248,1204,1000,683,1650,1927,1543,981,986,1416,1985,506,431,1167,1098,1096,1501,801,1526,2134,2252,4401,4968,5119,4845,4727,2918,4186,3940,1589,1913,1815,2115,2475,2927,1635,1812,1107,1450,1917,1807,1461,1969,2402,1446,1349,1550,1685,3249,4451,5312,4649,3574,4484,3570,3974,3614,2417,2046,2056,2192,2744,3239,3117,2471,2077,2703,2121,1865,2210,2496,1693,2028,2425,1536,1685,1562,1708,1944,3115,2633,5342,6043,4576,4940,4456,4046,3485,2162,3267,3126,795,3744,3429,3204,3944,4189,1683,4036,4191,4073,4400,3872,4058,4595,5312,1600,1005,2077,1795,4433,4906,4665,4866,3351,4826,3926,3811,4105,3409,4553,3958,4123,3855,4575,4917,5805,4660,4274,4492,4978,4677,4679,4758,4788,4098,3982,1606,1623,605,2808,4608,4548,4629,4294,2710,4765,3649,2594,5020,4891,5180,3767,4844,5119,4744,4010,4835,4507,4790,4991,5202,5305,4708,4648,5225,5515,1510,1712,1872,3141,4714,4833,4592,3785,1996,4985,4035,705,4342,5084,5538,5923,5302,4458,4541,4332,3784,3387,3285,3606,3840,4590,4656,4390,3846,4475,4302,959,1530,2133,1471,4333,4401,4040,4326,1842,5409,4205,3322,4150,3820,4338,4725,4694,3805,4153,5191,3873,4758,5895,5130,3542,4661,1115,4334,4634,5204,5058,822,1605,1891,2455,4362,3915,5336,4602,3544,5511,4109,3620,4763,4785,3659,4760,4511,4274,4539,3641,4352,4795,2395,5423,5010,4630,4120,3907,4839,5202,1321,1538,623,2895,4803,4586,4881,4780,5345,5117,2933,3190,2913,3644,5217,5041,4570,4748,2424,4195,4304,4308,4381,4187,4687,3894,2659,3747,627,3331,3669,1263,1746,1977,3348,4182,4966,4086,4792,5046,4563,3368,2743,3717,4486,4195,1817,3053,3392,3663,3520,2765,1607,2566,1495,2792,3068,3071,3867,2914,3613,1162,1472,2132,2034,4864,4460,4258,4905,4713,2416,4067,3310,3523,3740,3709,3577,2739,2431,3403,3750,2660,3068,2209,1011,754,1317,1162,2302,2423,2999,2485,2294,4579,4990,6041,5740,4127,5531,7580,6140,6778,5986,5191,3214,2493,2311,2298,2935,3376,3292,3163,1301,1977,2432,4339,4270,4075,3456,4023,3243,3624,4509,1951,3761,3194,5936,6169,8120,6227,7261,5810,4639,5847,4649,3422,3922,4169,3005,4154,4318,2689,3129,3777,4773,5062,3487,2732,3389,4322,4363,2236,4151,4066,6772,6421,7641,6660,7175,6034,7572,5138,6234,5847,6312,6192,4378,7836,5892,6153,6093,6230,6871,8362,3372,4996,5558,5102,5698,6133,5459,6235,2368,2832,3423,6436,6296,6998,7403,6824,6864,7328,5107,6606,6398,7460,7132,6370,6691,4367,6565,7290,6624,1027,3214,5633,6196,5026,6233,4220,6304,5572,3272,2947,3333,6457,6883,7001,6241,5464,7112,8156,5259,5729,6118,2843,5115,7424,7384,7639,8294,7129,4359,6073,5260,6770,6734,6536,6591,6043,5743,6855,7338,4098,3784,3956,6460,6359,7055,6207,7013,6203,7965,5686,5375,7421,7363,7665,7702,6978,5099,6825,6211,5905,5823,7458,6891,6779,7442,7335,6879,5463,5687,4521,4375,4916,6857,6273,7494,4840,7273,7504,3510,5035,5008,7499,6969,6031,6830,6786,5713,6591,5870,4459,7410,6966,7592,8173,6861,6904,6685,6597,7105,7216,3425,2802,5382,5169,5728,7736,4672,7534,5976,5478,5315,5582,6883,6784,7347,7605,7148,7865,4549,6530,7006,7375,7765,7582,6053,5255,6917,7040,7697,7713,7350,2376,3830,4569,5585,4717,7498,6569,7286,8227,6392,5992,3228,7804,8009,8714,7333,6869,4073,7591,7720,8167,8395,7907,7436,7538,7733,7393,7415,8555,6889,3598,3831,4118,5918,6572,6598,6290,5786,7525,7691,6536,5170,7109,6639,5875,7534,7461,7509,5424,8090,6824,7058,7466,7693,7359,7444,7852,4459,22,1096,5566,2177,2169,4911,4862,7030,6664,7264,6299,7767,7570,6852,5501,4094,5495,5445,5698,5629,4669,5499,5634,5146,2425,3910,2277,2424,5087,3959,5260,5323,5668,4097,1529,5298,5409,7429,4972,7446,6544,7870,7282,6269,5319,5532,5611,5047,3786,4585,5557,5267,4128,3623,1749,1787,920,1013,441,2114,3095,1341,1796,2729],\"yaxis\":\"y\",\"type\":\"scatter\"}],                        {\"template\":{\"data\":{\"bar\":[{\"error_x\":{\"color\":\"#2a3f5f\"},\"error_y\":{\"color\":\"#2a3f5f\"},\"marker\":{\"line\":{\"color\":\"#E5ECF6\",\"width\":0.5},\"pattern\":{\"fillmode\":\"overlay\",\"size\":10,\"solidity\":0.2}},\"type\":\"bar\"}],\"barpolar\":[{\"marker\":{\"line\":{\"color\":\"#E5ECF6\",\"width\":0.5},\"pattern\":{\"fillmode\":\"overlay\",\"size\":10,\"solidity\":0.2}},\"type\":\"barpolar\"}],\"carpet\":[{\"aaxis\":{\"endlinecolor\":\"#2a3f5f\",\"gridcolor\":\"white\",\"linecolor\":\"white\",\"minorgridcolor\":\"white\",\"startlinecolor\":\"#2a3f5f\"},\"baxis\":{\"endlinecolor\":\"#2a3f5f\",\"gridcolor\":\"white\",\"linecolor\":\"white\",\"minorgridcolor\":\"white\",\"startlinecolor\":\"#2a3f5f\"},\"type\":\"carpet\"}],\"choropleth\":[{\"colorbar\":{\"outlinewidth\":0,\"ticks\":\"\"},\"type\":\"choropleth\"}],\"contour\":[{\"colorbar\":{\"outlinewidth\":0,\"ticks\":\"\"},\"colorscale\":[[0.0,\"#0d0887\"],[0.1111111111111111,\"#46039f\"],[0.2222222222222222,\"#7201a8\"],[0.3333333333333333,\"#9c179e\"],[0.4444444444444444,\"#bd3786\"],[0.5555555555555556,\"#d8576b\"],[0.6666666666666666,\"#ed7953\"],[0.7777777777777778,\"#fb9f3a\"],[0.8888888888888888,\"#fdca26\"],[1.0,\"#f0f921\"]],\"type\":\"contour\"}],\"contourcarpet\":[{\"colorbar\":{\"outlinewidth\":0,\"ticks\":\"\"},\"type\":\"contourcarpet\"}],\"heatmap\":[{\"colorbar\":{\"outlinewidth\":0,\"ticks\":\"\"},\"colorscale\":[[0.0,\"#0d0887\"],[0.1111111111111111,\"#46039f\"],[0.2222222222222222,\"#7201a8\"],[0.3333333333333333,\"#9c179e\"],[0.4444444444444444,\"#bd3786\"],[0.5555555555555556,\"#d8576b\"],[0.6666666666666666,\"#ed7953\"],[0.7777777777777778,\"#fb9f3a\"],[0.8888888888888888,\"#fdca26\"],[1.0,\"#f0f921\"]],\"type\":\"heatmap\"}],\"heatmapgl\":[{\"colorbar\":{\"outlinewidth\":0,\"ticks\":\"\"},\"colorscale\":[[0.0,\"#0d0887\"],[0.1111111111111111,\"#46039f\"],[0.2222222222222222,\"#7201a8\"],[0.3333333333333333,\"#9c179e\"],[0.4444444444444444,\"#bd3786\"],[0.5555555555555556,\"#d8576b\"],[0.6666666666666666,\"#ed7953\"],[0.7777777777777778,\"#fb9f3a\"],[0.8888888888888888,\"#fdca26\"],[1.0,\"#f0f921\"]],\"type\":\"heatmapgl\"}],\"histogram\":[{\"marker\":{\"pattern\":{\"fillmode\":\"overlay\",\"size\":10,\"solidity\":0.2}},\"type\":\"histogram\"}],\"histogram2d\":[{\"colorbar\":{\"outlinewidth\":0,\"ticks\":\"\"},\"colorscale\":[[0.0,\"#0d0887\"],[0.1111111111111111,\"#46039f\"],[0.2222222222222222,\"#7201a8\"],[0.3333333333333333,\"#9c179e\"],[0.4444444444444444,\"#bd3786\"],[0.5555555555555556,\"#d8576b\"],[0.6666666666666666,\"#ed7953\"],[0.7777777777777778,\"#fb9f3a\"],[0.8888888888888888,\"#fdca26\"],[1.0,\"#f0f921\"]],\"type\":\"histogram2d\"}],\"histogram2dcontour\":[{\"colorbar\":{\"outlinewidth\":0,\"ticks\":\"\"},\"colorscale\":[[0.0,\"#0d0887\"],[0.1111111111111111,\"#46039f\"],[0.2222222222222222,\"#7201a8\"],[0.3333333333333333,\"#9c179e\"],[0.4444444444444444,\"#bd3786\"],[0.5555555555555556,\"#d8576b\"],[0.6666666666666666,\"#ed7953\"],[0.7777777777777778,\"#fb9f3a\"],[0.8888888888888888,\"#fdca26\"],[1.0,\"#f0f921\"]],\"type\":\"histogram2dcontour\"}],\"mesh3d\":[{\"colorbar\":{\"outlinewidth\":0,\"ticks\":\"\"},\"type\":\"mesh3d\"}],\"parcoords\":[{\"line\":{\"colorbar\":{\"outlinewidth\":0,\"ticks\":\"\"}},\"type\":\"parcoords\"}],\"pie\":[{\"automargin\":true,\"type\":\"pie\"}],\"scatter\":[{\"marker\":{\"colorbar\":{\"outlinewidth\":0,\"ticks\":\"\"}},\"type\":\"scatter\"}],\"scatter3d\":[{\"line\":{\"colorbar\":{\"outlinewidth\":0,\"ticks\":\"\"}},\"marker\":{\"colorbar\":{\"outlinewidth\":0,\"ticks\":\"\"}},\"type\":\"scatter3d\"}],\"scattercarpet\":[{\"marker\":{\"colorbar\":{\"outlinewidth\":0,\"ticks\":\"\"}},\"type\":\"scattercarpet\"}],\"scattergeo\":[{\"marker\":{\"colorbar\":{\"outlinewidth\":0,\"ticks\":\"\"}},\"type\":\"scattergeo\"}],\"scattergl\":[{\"marker\":{\"colorbar\":{\"outlinewidth\":0,\"ticks\":\"\"}},\"type\":\"scattergl\"}],\"scattermapbox\":[{\"marker\":{\"colorbar\":{\"outlinewidth\":0,\"ticks\":\"\"}},\"type\":\"scattermapbox\"}],\"scatterpolar\":[{\"marker\":{\"colorbar\":{\"outlinewidth\":0,\"ticks\":\"\"}},\"type\":\"scatterpolar\"}],\"scatterpolargl\":[{\"marker\":{\"colorbar\":{\"outlinewidth\":0,\"ticks\":\"\"}},\"type\":\"scatterpolargl\"}],\"scatterternary\":[{\"marker\":{\"colorbar\":{\"outlinewidth\":0,\"ticks\":\"\"}},\"type\":\"scatterternary\"}],\"surface\":[{\"colorbar\":{\"outlinewidth\":0,\"ticks\":\"\"},\"colorscale\":[[0.0,\"#0d0887\"],[0.1111111111111111,\"#46039f\"],[0.2222222222222222,\"#7201a8\"],[0.3333333333333333,\"#9c179e\"],[0.4444444444444444,\"#bd3786\"],[0.5555555555555556,\"#d8576b\"],[0.6666666666666666,\"#ed7953\"],[0.7777777777777778,\"#fb9f3a\"],[0.8888888888888888,\"#fdca26\"],[1.0,\"#f0f921\"]],\"type\":\"surface\"}],\"table\":[{\"cells\":{\"fill\":{\"color\":\"#EBF0F8\"},\"line\":{\"color\":\"white\"}},\"header\":{\"fill\":{\"color\":\"#C8D4E3\"},\"line\":{\"color\":\"white\"}},\"type\":\"table\"}]},\"layout\":{\"annotationdefaults\":{\"arrowcolor\":\"#2a3f5f\",\"arrowhead\":0,\"arrowwidth\":1},\"autotypenumbers\":\"strict\",\"coloraxis\":{\"colorbar\":{\"outlinewidth\":0,\"ticks\":\"\"}},\"colorscale\":{\"diverging\":[[0,\"#8e0152\"],[0.1,\"#c51b7d\"],[0.2,\"#de77ae\"],[0.3,\"#f1b6da\"],[0.4,\"#fde0ef\"],[0.5,\"#f7f7f7\"],[0.6,\"#e6f5d0\"],[0.7,\"#b8e186\"],[0.8,\"#7fbc41\"],[0.9,\"#4d9221\"],[1,\"#276419\"]],\"sequential\":[[0.0,\"#0d0887\"],[0.1111111111111111,\"#46039f\"],[0.2222222222222222,\"#7201a8\"],[0.3333333333333333,\"#9c179e\"],[0.4444444444444444,\"#bd3786\"],[0.5555555555555556,\"#d8576b\"],[0.6666666666666666,\"#ed7953\"],[0.7777777777777778,\"#fb9f3a\"],[0.8888888888888888,\"#fdca26\"],[1.0,\"#f0f921\"]],\"sequentialminus\":[[0.0,\"#0d0887\"],[0.1111111111111111,\"#46039f\"],[0.2222222222222222,\"#7201a8\"],[0.3333333333333333,\"#9c179e\"],[0.4444444444444444,\"#bd3786\"],[0.5555555555555556,\"#d8576b\"],[0.6666666666666666,\"#ed7953\"],[0.7777777777777778,\"#fb9f3a\"],[0.8888888888888888,\"#fdca26\"],[1.0,\"#f0f921\"]]},\"colorway\":[\"#636efa\",\"#EF553B\",\"#00cc96\",\"#ab63fa\",\"#FFA15A\",\"#19d3f3\",\"#FF6692\",\"#B6E880\",\"#FF97FF\",\"#FECB52\"],\"font\":{\"color\":\"#2a3f5f\"},\"geo\":{\"bgcolor\":\"white\",\"lakecolor\":\"white\",\"landcolor\":\"#E5ECF6\",\"showlakes\":true,\"showland\":true,\"subunitcolor\":\"white\"},\"hoverlabel\":{\"align\":\"left\"},\"hovermode\":\"closest\",\"mapbox\":{\"style\":\"light\"},\"paper_bgcolor\":\"white\",\"plot_bgcolor\":\"#E5ECF6\",\"polar\":{\"angularaxis\":{\"gridcolor\":\"white\",\"linecolor\":\"white\",\"ticks\":\"\"},\"bgcolor\":\"#E5ECF6\",\"radialaxis\":{\"gridcolor\":\"white\",\"linecolor\":\"white\",\"ticks\":\"\"}},\"scene\":{\"xaxis\":{\"backgroundcolor\":\"#E5ECF6\",\"gridcolor\":\"white\",\"gridwidth\":2,\"linecolor\":\"white\",\"showbackground\":true,\"ticks\":\"\",\"zerolinecolor\":\"white\"},\"yaxis\":{\"backgroundcolor\":\"#E5ECF6\",\"gridcolor\":\"white\",\"gridwidth\":2,\"linecolor\":\"white\",\"showbackground\":true,\"ticks\":\"\",\"zerolinecolor\":\"white\"},\"zaxis\":{\"backgroundcolor\":\"#E5ECF6\",\"gridcolor\":\"white\",\"gridwidth\":2,\"linecolor\":\"white\",\"showbackground\":true,\"ticks\":\"\",\"zerolinecolor\":\"white\"}},\"shapedefaults\":{\"line\":{\"color\":\"#2a3f5f\"}},\"ternary\":{\"aaxis\":{\"gridcolor\":\"white\",\"linecolor\":\"white\",\"ticks\":\"\"},\"baxis\":{\"gridcolor\":\"white\",\"linecolor\":\"white\",\"ticks\":\"\"},\"bgcolor\":\"#E5ECF6\",\"caxis\":{\"gridcolor\":\"white\",\"linecolor\":\"white\",\"ticks\":\"\"}},\"title\":{\"x\":0.05},\"xaxis\":{\"automargin\":true,\"gridcolor\":\"white\",\"linecolor\":\"white\",\"ticks\":\"\",\"title\":{\"standoff\":15},\"zerolinecolor\":\"white\",\"zerolinewidth\":2},\"yaxis\":{\"automargin\":true,\"gridcolor\":\"white\",\"linecolor\":\"white\",\"ticks\":\"\",\"title\":{\"standoff\":15},\"zerolinecolor\":\"white\",\"zerolinewidth\":2}}},\"xaxis\":{\"anchor\":\"y\",\"domain\":[0.0,1.0],\"title\":{\"text\":\"dteday\"}},\"yaxis\":{\"anchor\":\"x\",\"domain\":[0.0,1.0],\"title\":{\"text\":\"cnt\"}},\"legend\":{\"tracegroupgap\":0},\"margin\":{\"t\":60}},                        {\"responsive\": true}                    ).then(function(){\n",
       "                            \n",
       "var gd = document.getElementById('00a0756d-3ada-458e-980d-bfefe575cbd8');\n",
       "var x = new MutationObserver(function (mutations, observer) {{\n",
       "        var display = window.getComputedStyle(gd).display;\n",
       "        if (!display || display === 'none') {{\n",
       "            console.log([gd, 'removed!']);\n",
       "            Plotly.purge(gd);\n",
       "            observer.disconnect();\n",
       "        }}\n",
       "}});\n",
       "\n",
       "// Listen for the removal of the full notebook cells\n",
       "var notebookContainer = gd.closest('#notebook-container');\n",
       "if (notebookContainer) {{\n",
       "    x.observe(notebookContainer, {childList: true});\n",
       "}}\n",
       "\n",
       "// Listen for the clearing of the current output cell\n",
       "var outputEl = gd.closest('.output');\n",
       "if (outputEl) {{\n",
       "    x.observe(outputEl, {childList: true});\n",
       "}}\n",
       "\n",
       "                        })                };                });            </script>        </div>"
      ]
     },
     "metadata": {},
     "output_type": "display_data"
    }
   ],
   "source": [
    "bs.plot.line(x='dteday', y='cnt')"
   ]
  },
  {
   "cell_type": "code",
   "execution_count": 38,
   "id": "a3b1807f",
   "metadata": {},
   "outputs": [
    {
     "data": {
      "image/png": "[encoded data removed]",
      "text/plain": [
       "<Figure size 1440x1080 with 1 Axes>"
      ]
     },
     "metadata": {
      "needs_background": "light"
     },
     "output_type": "display_data"
    }
   ],
   "source": [
    "fig = plt.figure(figsize=(20,15))\n",
    "plt.plot(bs.dteday,bs.cnt, color=\"blue\")\n",
    "plt.plot(bs.dteday,bs.casual, color=\"red\")\n",
    "plt.plot(bs.dteday,bs.registered, color=\"green\")\n",
    "fig.suptitle('Day Vs Coustomers', fontsize=20)              # Plot heading \n",
    "plt.xlabel('Day', fontsize=18)                               # X-label\n",
    "plt.ylabel('Number of coustomers', fontsize=16)\n",
    "plt.show()"
   ]
  },
  {
   "cell_type": "code",
   "execution_count": 16,
   "id": "1d3fc7c5",
   "metadata": {},
   "outputs": [
    {
     "data": {
      "image/png": "[encoded data removed]",
      "text/plain": [
       "<Figure size 1440x1080 with 7 Axes>"
      ]
     },
     "metadata": {
      "needs_background": "light"
     },
     "output_type": "display_data"
    }
   ],
   "source": [
    "plt.figure(figsize=(20,15))\n",
    "plt.subplot(2,4,1)\n",
    "sns.boxplot(x = 'season', y='cnt', data=bs)\n",
    "\n",
    "plt.subplot(2,4,2)\n",
    "sns.boxplot(x = 'yr', y='cnt', data=bs)\n",
    "\n",
    "plt.subplot(2,4,3)\n",
    "sns.boxplot(x = 'mnth', y='cnt', data=bs)\n",
    "\n",
    "plt.subplot(2,4,4)\n",
    "sns.boxplot(x = 'holiday', y='cnt', data=bs)\n",
    "\n",
    "plt.subplot(2,4,5)\n",
    "sns.boxplot(x = 'weekday', y='cnt', data=bs)\n",
    "\n",
    "plt.subplot(2,4,6)\n",
    "sns.boxplot(x = 'workingday', y='cnt', data=bs)\n",
    "\n",
    "plt.subplot(2,4,7)\n",
    "sns.boxplot(x = 'weathersit', y='cnt', data=bs)\n",
    "\n",
    "plt.show()"
   ]
  },
  {
   "cell_type": "code",
   "execution_count": 20,
   "id": "eb2cc2ef",
   "metadata": {},
   "outputs": [
    {
     "data": {
      "image/png": "[encoded data removed]",
      "text/plain": [
       "<Figure size 1440x1080 with 2 Axes>"
      ]
     },
     "metadata": {
      "needs_background": "light"
     },
     "output_type": "display_data"
    }
   ],
   "source": [
    "plt.figure(figsize=(20,15))\n",
    "plt.subplot(2,1,1)\n",
    "sns.boxplot(x = 'weathersit', y='cnt', data=bs, hue='season')\n",
    "\n",
    "plt.subplot(2,1,2)\n",
    "sns.boxplot(x = 'season', y='cnt', data=bs, hue='weathersit')\n",
    "plt.show()"
   ]
  },
  {
   "cell_type": "markdown",
   "id": "3d847c3d",
   "metadata": {},
   "source": [
    "Let's get the corelation map and corelation values to see if linear regression model can be used for this data"
   ]
  },
  {
   "cell_type": "markdown",
   "id": "92cbef51",
   "metadata": {},
   "source": [
    "## Step 2: Preparing the data for modelling"
   ]
  },
  {
   "cell_type": "markdown",
   "id": "169f2609",
   "metadata": {},
   "source": [
    "### Train - Test split"
   ]
  },
  {
   "cell_type": "markdown",
   "id": "fe0ba3fd",
   "metadata": {},
   "source": [
    "### Rescalling"
   ]
  },
  {
   "cell_type": "markdown",
   "id": "f4226054",
   "metadata": {},
   "source": [
    "## Step 3: Training the model"
   ]
  },
  {
   "cell_type": "markdown",
   "id": "a910b559",
   "metadata": {},
   "source": [
    "### RSE methos"
   ]
  },
  {
   "cell_type": "markdown",
   "id": "b08acda0",
   "metadata": {},
   "source": [
    "### Manual elimenation of features"
   ]
  },
  {
   "cell_type": "markdown",
   "id": "2df3cb28",
   "metadata": {},
   "source": [
    "## Step 4: Resdual analysis"
   ]
  },
  {
   "cell_type": "markdown",
   "id": "21a81f12",
   "metadata": {},
   "source": [
    "## Step 5: Predection and evaluation on the test set"
   ]
  },
  {
   "cell_type": "markdown",
   "id": "9d69990b",
   "metadata": {},
   "source": [
    "### Predction"
   ]
  },
  {
   "cell_type": "markdown",
   "id": "4064ecae",
   "metadata": {},
   "source": [
    "### Evaluation"
   ]
  },
  {
   "cell_type": "markdown",
   "id": "1923288c",
   "metadata": {},
   "source": [
    "## Step 6: Observations, Conclusions and Suggestions"
   ]
  },
  {
   "cell_type": "markdown",
   "id": "b2b76b32",
   "metadata": {},
   "source": [
    "### Observations"
   ]
  },
  {
   "cell_type": "markdown",
   "id": "de9242df",
   "metadata": {},
   "source": [
    "### Conclusions"
   ]
  },
  {
   "cell_type": "markdown",
   "id": "5afa0ea4",
   "metadata": {},
   "source": [
    "### Suggestions"
   ]
  }
 ],
 "metadata": {
  "kernelspec": {
   "display_name": "Python 3 (ipykernel)",
   "language": "python",
   "name": "python3"
  },
  "language_info": {
   "codemirror_mode": {
    "name": "ipython",
    "version": 3
   },
   "file_extension": ".py",
   "mimetype": "text/x-python",
   "name": "python",
   "nbconvert_exporter": "python",
   "pygments_lexer": "ipython3",
   "version": "3.10.2"
  }
 },
 "nbformat": 4,
 "nbformat_minor": 5
}
