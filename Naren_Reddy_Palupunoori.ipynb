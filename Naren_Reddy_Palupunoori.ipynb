{
 "cells": [
  {
   "cell_type": "markdown",
   "id": "75d2b815",
   "metadata": {},
   "source": [
    "# Bike sharing case study\n",
    "## Problem Statement\n",
    "Understand the factors affecting the demand for these shared bikes in the American market. The company wants to know:\n",
    "1. Which variables are significant in predicting the demand for shared bikes.\n",
    "2. How well those variables describe the bike demands"
   ]
  }
 ],
 "metadata": {
  "kernelspec": {
   "display_name": "Python 3 (ipykernel)",
   "language": "python",
   "name": "python3"
  },
  "language_info": {
   "codemirror_mode": {
    "name": "ipython",
    "version": 3
   },
   "file_extension": ".py",
   "mimetype": "text/x-python",
   "name": "python",
   "nbconvert_exporter": "python",
   "pygments_lexer": "ipython3",
   "version": "3.10.2"
  }
 },
 "nbformat": 4,
 "nbformat_minor": 5
}
